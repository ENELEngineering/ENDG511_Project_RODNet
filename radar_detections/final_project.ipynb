{
 "cells": [
  {
   "cell_type": "code",
   "execution_count": 1,
   "metadata": {},
   "outputs": [
    {
     "name": "stderr",
     "output_type": "stream",
     "text": [
      "/var/folders/lj/_chmmmhd2m5328svknqdk8b80000gn/T/ipykernel_47932/763557660.py:5: DeprecationWarning: the imp module is deprecated in favour of importlib and slated for removal in Python 3.12; see the module's documentation for alternative uses\n",
      "  import imp\n"
     ]
    },
    {
     "data": {
      "text/plain": [
       "<Figure size 800x800 with 0 Axes>"
      ]
     },
     "metadata": {},
     "output_type": "display_data"
    }
   ],
   "source": [
    "import os\n",
    "import numpy as np\n",
    "import time\n",
    "import pickle\n",
    "import imp\n",
    "\n",
    "import torch\n",
    "import torch.nn as nn\n",
    "import torch.optim as optim\n",
    "from torch.optim.lr_scheduler import StepLR\n",
    "from torch.utils.data import DataLoader\n",
    "from torchsummary import summary\n",
    "import matplotlib.pyplot as plt\n",
    "\n",
    "\n",
    "from cruw import CRUW\n",
    "from rodnet.datasets.CRDataset import CRDataset\n",
    "from rodnet.datasets.collate_functions import cr_collate\n",
    "from rodnet.utils.solve_dir import create_dir_for_new_model\n",
    "from rodnet.utils.load_configs import load_configs_from_file, parse_cfgs, update_config_dict\n",
    "from rodnet.utils.visualization import visualize_train_img, visualize_test_img_wo_gt, visualize_confmap, visualize_test_img\n",
    "from rodnet.core.post_processing import ConfmapStack, post_process, post_process_single_frame, write_dets_results, write_dets_results_single_frame, lnms, ops\n",
    "from rodnet.core.radar_processing import chirp_amp\n",
    "from cruw.eval import evaluate_rodnet_seq\n",
    "from cruw.eval.rod.rod_eval_utils import accumulate, summarize\n",
    "from cruw.eval.rod.load_txt import read_gt_txt, read_sub_txt, read_rodnet_res\n",
    "from cruw.eval.rod.rod_eval_utils import compute_ols_dts_gts, evaluate_img, accumulate, summarize"
   ]
  },
  {
   "cell_type": "markdown",
   "metadata": {},
   "source": [
    "# Setting seed for reproducibility."
   ]
  },
  {
   "cell_type": "code",
   "execution_count": 2,
   "metadata": {},
   "outputs": [
    {
     "data": {
      "text/plain": [
       "<torch._C.Generator at 0x10d7173d0>"
      ]
     },
     "execution_count": 2,
     "metadata": {},
     "output_type": "execute_result"
    }
   ],
   "source": [
    "torch.manual_seed(42)"
   ]
  },
  {
   "cell_type": "markdown",
   "metadata": {},
   "source": [
    "# Initailizing CRUW object required as one of parameters for custom dataset."
   ]
  },
  {
   "cell_type": "code",
   "execution_count": 3,
   "metadata": {},
   "outputs": [
    {
     "name": "stdout",
     "output_type": "stream",
     "text": [
      "warning: loading calibration data failed\n"
     ]
    }
   ],
   "source": [
    "config_dict = load_configs_from_file('config_rodnet_cdc_win16.py')\n",
    "dataset = CRUW(data_root=config_dict['dataset_cfg']['base_root'], sensor_config_name='sensor_config_rod2021')\n",
    "radar_configs = dataset.sensor_cfg.radar_cfg\n",
    "range_grid = dataset.range_grid         \n",
    "angle_grid = dataset.angle_grid         \n",
    "model_cfg = config_dict['model_cfg']"
   ]
  },
  {
   "cell_type": "markdown",
   "metadata": {},
   "source": [
    "# Initailizing custom dataset."
   ]
  },
  {
   "cell_type": "code",
   "execution_count": 6,
   "metadata": {},
   "outputs": [
    {
     "name": "stderr",
     "output_type": "stream",
     "text": [
      "  0%|          | 0/10 [00:00<?, ?it/s]"
     ]
    },
    {
     "name": "stderr",
     "output_type": "stream",
     "text": [
      "100%|██████████| 10/10 [00:05<00:00,  1.69it/s]"
     ]
    },
    {
     "name": "stdout",
     "output_type": "stream",
     "text": [
      " Total number of samples in the training set: 2218\n"
     ]
    },
    {
     "name": "stderr",
     "output_type": "stream",
     "text": [
      "\n"
     ]
    }
   ],
   "source": [
    "crdata_train = CRDataset(data_dir='./data_final_converted', dataset=dataset, config_dict=config_dict, split='train',\n",
    "                                 noise_channel= False)\n",
    "print(f\" Total number of samples in the training set: {len(crdata_train)}\")"
   ]
  },
  {
   "cell_type": "code",
   "execution_count": 32,
   "metadata": {},
   "outputs": [],
   "source": [
    "n_class = dataset.object_cfg.n_class          \n",
    "n_epoch = config_dict['train_cfg']['n_epoch']   \n",
    "batch_size = config_dict['train_cfg']['batch_size'] \n",
    "lr = config_dict['train_cfg']['lr']\n",
    "train_configs = config_dict['train_cfg']\n",
    "test_configs = config_dict['test_cfg']\n",
    "win_size = train_configs['win_size']\n",
    "device = torch.device('cuda:0' if torch.cuda.is_available() else 'cpu')"
   ]
  },
  {
   "cell_type": "markdown",
   "metadata": {},
   "source": [
    "# Spliting the dataset into traning and validation set."
   ]
  },
  {
   "cell_type": "code",
   "execution_count": 33,
   "metadata": {},
   "outputs": [],
   "source": [
    "traindata, valdata = torch.utils.data.random_split(crdata_train,[1218,1000])"
   ]
  },
  {
   "cell_type": "code",
   "execution_count": 34,
   "metadata": {},
   "outputs": [],
   "source": [
    "tdataloader = DataLoader(traindata, batch_size, shuffle=True, num_workers=0, collate_fn=cr_collate)\n",
    "vdataloader = DataLoader(valdata, batch_size =1, shuffle=True, num_workers=0, collate_fn=cr_collate)"
   ]
  },
  {
   "cell_type": "markdown",
   "metadata": {},
   "source": [
    "# Creating folders to store the trained model .pkl files and predictions results."
   ]
  },
  {
   "cell_type": "code",
   "execution_count": 56,
   "metadata": {},
   "outputs": [],
   "source": [
    "train_model_path = 'new_trainrepo'         #entre your desired location to store trained model\n",
    "if not os.path.exists(train_model_path):\n",
    "    os.makedirs(train_model_path)\n",
    "test_res_dir_base = os.path.join(os.path.join('resultrepo', 'base'))\n",
    "if not os.path.exists(test_res_dir_base):\n",
    "    os.makedirs(test_res_dir_base)\n",
    "test_res_dir_multi_1 = os.path.join('resultrepo', 'multi_1')\n",
    "if not os.path.exists(test_res_dir_multi_1):\n",
    "    os.makedirs(test_res_dir_multi_1)"
   ]
  },
  {
   "cell_type": "markdown",
   "metadata": {},
   "source": [
    "# Importing models and training function"
   ]
  },
  {
   "cell_type": "code",
   "execution_count": 36,
   "metadata": {},
   "outputs": [],
   "source": [
    "import getModel\n",
    "imp.reload(getModel)\n",
    "from getModel import ROD_V0, ROD_V1\n",
    "import trainModel\n",
    "imp.reload(trainModel)\n",
    "from trainModel import modelHandler,baseHandler"
   ]
  },
  {
   "cell_type": "markdown",
   "metadata": {},
   "source": [
    "# Base model initialization"
   ]
  },
  {
   "cell_type": "code",
   "execution_count": 37,
   "metadata": {},
   "outputs": [
    {
     "name": "stdout",
     "output_type": "stream",
     "text": [
      "Number of encoder parameters: 28601088\n",
      "Number of decoder long parameters: 5919174\n"
     ]
    }
   ],
   "source": [
    "rod_v0 = ROD_V0(in_channels=2, n_class=n_class).to(device)\n",
    "optimizer_v0 = optim.Adam(rod_v0.parameters(), lr=lr)\n",
    "criterion_v0 = nn.BCELoss()\n",
    "scheduler_v0 = StepLR(optimizer_v0, step_size=config_dict['train_cfg']['lr_step'], gamma=0.1)"
   ]
  },
  {
   "cell_type": "markdown",
   "metadata": {},
   "source": [
    "# Multibranch model initialization"
   ]
  },
  {
   "cell_type": "code",
   "execution_count": 38,
   "metadata": {},
   "outputs": [
    {
     "name": "stdout",
     "output_type": "stream",
     "text": [
      "Number of encoder parameters: 6481152\n",
      "Number of decoder short parameters: 1200453\n",
      "Number of decoder long parameters: 28039110\n"
     ]
    }
   ],
   "source": [
    "rod_v1 = ROD_V1(in_channels=2, n_class=n_class).to(device)\n",
    "optimizer_v1 = optim.Adam(rod_v1.parameters(), lr=lr)\n",
    "criterion_v1 = nn.BCELoss()\n",
    "scheduler_v1 = StepLR(optimizer_v1, step_size=config_dict['train_cfg']['lr_step'], gamma=0.1)"
   ]
  },
  {
   "cell_type": "markdown",
   "metadata": {},
   "source": [
    "# Model Training"
   ]
  },
  {
   "cell_type": "markdown",
   "metadata": {},
   "source": [
    "## Base model"
   ]
  },
  {
   "cell_type": "code",
   "execution_count": null,
   "metadata": {},
   "outputs": [],
   "source": [
    "M_v0 = baseHandler(rod_v0,criterion_v0,optimizer_v0,device,scheduler_v0,n_epoch)\n",
    "rodNet_v0, history_v0 = M_v0.train(tdataloader,train_model_path)"
   ]
  },
  {
   "cell_type": "markdown",
   "metadata": {},
   "source": [
    "### Ploting training loss curve"
   ]
  },
  {
   "cell_type": "code",
   "execution_count": null,
   "metadata": {},
   "outputs": [],
   "source": [
    "total_loss = history_v0['train']['loss']\n",
    "epochs = np.array([i for i in range(n_epoch)])\n",
    "plt.plot(epochs, total_loss, label='Total')\n",
    "plt.title('Training Loss vs. Epoch')\n",
    "plt.xlabel('Epoch')\n",
    "plt.ylabel('Loss')\n",
    "plt.legend()\n",
    "plt.show()"
   ]
  },
  {
   "cell_type": "markdown",
   "metadata": {},
   "source": [
    "## Multibranch model"
   ]
  },
  {
   "cell_type": "code",
   "execution_count": null,
   "metadata": {},
   "outputs": [],
   "source": [
    "M_v1 = modelHandler(rod_v1,criterion_v1,optimizer_v1,device,scheduler_v1,n_epoch)\n",
    "rodNet_v1, history_v1 = M_v1.train(tdataloader,train_model_path)"
   ]
  },
  {
   "cell_type": "markdown",
   "metadata": {},
   "source": [
    "### Ploting training loss curve"
   ]
  },
  {
   "cell_type": "code",
   "execution_count": null,
   "metadata": {},
   "outputs": [],
   "source": [
    "total_loss = history_v1['T']['train']['loss']\n",
    "short_branch_loss = history_v1['1']['train']['loss']\n",
    "long_branch_loss = history_v1['2']['train']['loss']\n",
    "epochs = np.array([i for i in range(n_epoch)])\n",
    "plt.plot(epochs, total_loss, label='Total')\n",
    "plt.plot(epochs,short_branch_loss, label='Short Branch')\n",
    "plt.plot(epochs,long_branch_loss, label='Long Branch')\n",
    "plt.title('Training Loss vs. Epoch')\n",
    "plt.xlabel('Epoch')\n",
    "plt.ylabel('Loss')\n",
    "plt.legend()\n",
    "plt.show()"
   ]
  },
  {
   "cell_type": "markdown",
   "metadata": {},
   "source": [
    "# Model Validation/Testing "
   ]
  },
  {
   "cell_type": "markdown",
   "metadata": {},
   "source": [
    "## Base model"
   ]
  },
  {
   "cell_type": "code",
   "execution_count": 52,
   "metadata": {},
   "outputs": [
    {
     "name": "stdout",
     "output_type": "stream",
     "text": [
      "Number of encoder parameters: 28601088\n",
      "Number of decoder long parameters: 5919174\n"
     ]
    }
   ],
   "source": [
    "rod_v0 = ROD_V0(in_channels=2, n_class=n_class).to(device)\n",
    "\n",
    "# 1. uncomment the following line if the model is trained recently and using CPU\n",
    "# rod_v0.load_state_dict(torch.load(os.path.join(train_model_path,'base_epoch_05_final.pkl'), map_location=torch.device('cpu')))\n",
    "\n",
    "# 2. uncomment the following line if the model is trained recently and using GPU\n",
    "# rod_v0.load_state_dict(torch.load(os.path.join(train_model_path,'base_epoch_05_final.pkl')))\n",
    "\n",
    "# 3. uncomment the following line if loading the trained model provided and using CPU\n",
    "#rod_v0.load_state_dict(torch.load(os.path.join('./trained_models', 'base_epoch_05_final.pkl'), map_location=torch.device('cpu')))\n",
    "\n",
    "# 4. uncomment the following line if loading the trained model provided and using GPU\n",
    "rod_v0.load_state_dict(torch.load(os.path.join('./trained_models', 'base_epoch_05_final.pkl')))\n",
    "\n",
    "rod_v0.eval()\n",
    "validation_loss_class_0 = []\n",
    "validation_loss_class_1 = []\n",
    "validation_loss_class_2 = []\n",
    "ols_ans = []\n",
    "gt_total_ped, gt_total_cyc, gt_total_car = 0, 0, 0\n",
    "dt_total_ped, dt_total_cyc, dt_total_car = 0, 0, 0\n",
    "total_inference_time = 0\n",
    "with torch.no_grad():\n",
    "    for iter, data_dict in enumerate(vdataloader):\n",
    "        data = data_dict['radar_data'].to(device)\n",
    "        confmap_gt = data_dict['anno']['confmaps'].to(device)\n",
    "        image_paths = data_dict['image_paths'][0]\n",
    "        seq_name = data_dict['seq_names'][0]\n",
    "        start_frame = data_dict['start_frame'].item()\n",
    "        end_frame = data_dict['end_frame'].item()\n",
    "        start_time = time.time()\n",
    "        confmap_pred = rod_v0(data.float())\n",
    "        total_inference_time += time.time() - start_time\n",
    "        loss_class_0 = criterion_v0(confmap_pred[:,0,:,:,:], confmap_gt[:,0,:,:,:].float()).item()\n",
    "        loss_class_1 = criterion_v0(confmap_pred[:,1,:,:,:], confmap_gt[:,1,:,:,:].float()).item()\n",
    "        loss_class_2 = criterion_v0(confmap_pred[:,2,:,:,:], confmap_gt[:,2,:,:,:].float()).item()\n",
    "        validation_loss_class_0.append(loss_class_0)\n",
    "        validation_loss_class_1.append(loss_class_1)\n",
    "        validation_loss_class_2.append(loss_class_2)\n",
    "        pred = confmap_pred[0,:,0,:,:]\n",
    "        result = post_process_single_frame(pred.cpu().detach().numpy(), dataset, config_dict)\n",
    "        seq_res_dir = os.path.join(test_res_dir_base, seq_name)\n",
    "        if not os.path.exists(seq_res_dir):\n",
    "            os.makedirs(seq_res_dir)\n",
    "        f = open(os.path.join(seq_res_dir, 'rod_res.txt'), 'a')\n",
    "        f.close()\n",
    "        save_path = os.path.join(test_res_dir_base, seq_name, 'rod_res.txt')\n",
    "\n",
    "        write_dets_results_single_frame(result, start_frame, save_path, dataset)\n",
    "        \n",
    "        gt_path = os.path.join(dataset.data_root, 'annotations', 'train', seq_name.upper() + '.txt')\n",
    "        data_path = os.path.join(dataset.data_root, 'train', gt_path.split('/')[-1][:-4])\n",
    "        n_frame = len(os.listdir(os.path.join(data_path, dataset.sensor_cfg.camera_cfg['image_folder'])))\n",
    "        gt_dets = read_gt_txt(gt_path, n_frame, dataset)\n",
    "        sub_dets = read_rodnet_res(save_path, n_frame, dataset)\n",
    "        if(sub_dets == None):\n",
    "            continue\n",
    "        gt_total_ped += len(gt_dets[start_frame,0])\n",
    "        gt_total_cyc += len(gt_dets[start_frame,1])\n",
    "        gt_total_car += len(gt_dets[start_frame,2])\n",
    "        dt_total_ped += len(sub_dets[start_frame,0])\n",
    "        dt_total_cyc += len(sub_dets[start_frame,1])\n",
    "        dt_total_car += len(sub_dets[start_frame,2])\n",
    "        olss_all = {(start_frame, catId): compute_ols_dts_gts(gt_dets, sub_dets, start_frame, catId, dataset) \\\n",
    "                    for catId in range(3)}\n",
    "        ols_ans.append(olss_all)\n",
    "        "
   ]
  },
  {
   "cell_type": "markdown",
   "metadata": {},
   "source": [
    "### Printing prediction results and average inference time."
   ]
  },
  {
   "cell_type": "code",
   "execution_count": 53,
   "metadata": {},
   "outputs": [
    {
     "name": "stdout",
     "output_type": "stream",
     "text": [
      "Actual number of pedestrians: 789 and detected: 418\n",
      "Actual number of cyclist: 502 and detected: 365\n",
      "Actual number of car: 602 and detected: 2211\n",
      "Average inference time : 0.9999359176158905 seconds \n"
     ]
    }
   ],
   "source": [
    "print(f\"Actual number of pedestrians: {gt_total_ped} and detected: {dt_total_ped}\")\n",
    "print(f\"Actual number of cyclist: {gt_total_cyc} and detected: {dt_total_cyc}\")\n",
    "print(f\"Actual number of car: {gt_total_car} and detected: {dt_total_car}\")\n",
    "print(f\"Average inference time : {total_inference_time/1000} seconds \")"
   ]
  },
  {
   "cell_type": "markdown",
   "metadata": {},
   "source": [
    "### Ploting the loss probability distribution curve."
   ]
  },
  {
   "cell_type": "code",
   "execution_count": 54,
   "metadata": {},
   "outputs": [
    {
     "data": {
      "image/png": "[encoded data removed]",
      "text/plain": [
       "<Figure size 640x480 with 1 Axes>"
      ]
     },
     "metadata": {},
     "output_type": "display_data"
    }
   ],
   "source": [
    "plt.hist(np.round(np.array(validation_loss_class_0),3), bins=30, color='red', alpha=0.5, label='pedistrian',density=True)\n",
    "plt.hist(np.round(np.array(validation_loss_class_1),3), bins=30, color='green', alpha=0.5, label='bicycle',density=True)\n",
    "plt.hist(np.round(np.array(validation_loss_class_2),3), bins=30, color='blue', alpha=0.5, label='car',density=True)\n",
    "plt.title('loss pdf')\n",
    "plt.xlabel('Loss')\n",
    "plt.ylabel('Probability Density')\n",
    "plt.legend(loc='upper left', ncol=3)\n",
    "plt.grid(True)\n",
    "plt.show()"
   ]
  },
  {
   "cell_type": "markdown",
   "metadata": {},
   "source": [
    "## Multibranch Model"
   ]
  },
  {
   "cell_type": "markdown",
   "metadata": {},
   "source": [
    "### Declaring functions for calculating inference time for short and long branches"
   ]
  },
  {
   "cell_type": "code",
   "execution_count": 40,
   "metadata": {},
   "outputs": [],
   "source": [
    "def infer_short_branch(model,inp):\n",
    "    model.eval()\n",
    "    with torch.no_grad():\n",
    "        x = model.shortbranch_inf(inp)\n",
    "\n",
    "def infer_long_branch(model,inp):\n",
    "    model.eval()\n",
    "    with torch.no_grad():\n",
    "        x = model.longbranch_inf(inp)"
   ]
  },
  {
   "cell_type": "code",
   "execution_count": 43,
   "metadata": {},
   "outputs": [
    {
     "name": "stdout",
     "output_type": "stream",
     "text": [
      "Number of encoder parameters: 6481152\n",
      "Number of decoder short parameters: 1200453\n",
      "Number of decoder long parameters: 28039110\n"
     ]
    }
   ],
   "source": [
    "rod_v1 = ROD_V1(in_channels=2, n_class=n_class).to(device)\n",
    "\n",
    "# 1. uncomment the following line if the model is trained recently and using CPU\n",
    "# rod_v1.load_state_dict(torch.load(os.path.join(train_model_path,'multi_epoch_05_final.pkl'), map_location=torch.device('cpu')))\n",
    "\n",
    "# 2. uncomment the following line if the model is trained recently and using GPU\n",
    "# rod_v1.load_state_dict(torch.load(os.path.join(train_model_path,'multi_epoch_05_final.pkl')))\n",
    "\n",
    "# 3. uncomment the following line if loading the trained model provided and using CPU\n",
    "# rod_v1.load_state_dict(torch.load(os.path.join('./trained_models', 'multi_epoch_05_final.pkl'), map_location=torch.device('cpu')))\n",
    "\n",
    "# 4. uncomment the following line if loading the trained model provided and using GPU\n",
    "rod_v1.load_state_dict(torch.load(os.path.join('./trained_models', 'multi_epoch_05_final.pkl')))\n",
    "\n",
    "rod_v1.eval()\n",
    "val_loss_class_0_short = []\n",
    "val_loss_class_1_short = []\n",
    "val_loss_class_2_short = []\n",
    "val_loss_class_0_long = []\n",
    "val_loss_class_1_long = []\n",
    "val_loss_class_2_long = []\n",
    "early_exit_count = 0\n",
    "ols_ans_1 = []\n",
    "ols_ans_2 = []\n",
    "total_ped_s, total_cyc_s, total_car_s = 0,0,0\n",
    "gt_total_ped_s, gt_total_cyc_s, gt_total_car_s = 0,0,0\n",
    "total_short_infer = 0\n",
    "total_long_infer = 0\n",
    "with torch.no_grad():\n",
    "    for iter, data_dict in enumerate(vdataloader):\n",
    "        data = data_dict['radar_data'].to(device)\n",
    "        confmap_gt = data_dict['anno']['confmaps'].to(device)\n",
    "        seq_name = data_dict['seq_names'][0]\n",
    "        start_frame = data_dict['start_frame'].item()\n",
    "        end_frame = data_dict['end_frame'].item()\n",
    "        confmap_preds_1,confmap_preds_2 = rod_v1(data.float())\n",
    "        loss_1_class0, loss_2_class0 = criterion_v1(confmap_preds_1[:,0,:,:,:], confmap_gt[:,0,:,:,:].float()), criterion_v1(confmap_preds_2[:,0,:,:,:], confmap_gt[:,0,:,:,:].float())\n",
    "        loss_1_class1, loss_2_class1 = criterion_v1(confmap_preds_1[:,1,:,:,:], confmap_gt[:,1,:,:,:].float()), criterion_v1(confmap_preds_2[:,1,:,:,:], confmap_gt[:,1,:,:,:].float())\n",
    "        loss_1_class2, loss_2_class2 = criterion_v1(confmap_preds_1[:,2,:,:,:], confmap_gt[:,2,:,:,:].float()), criterion_v1(confmap_preds_2[:,2,:,:,:], confmap_gt[:,2,:,:,:].float())\n",
    "        val_loss_class_0_short.append(loss_1_class0)\n",
    "        val_loss_class_1_short.append(loss_1_class1)\n",
    "        val_loss_class_2_short.append(loss_1_class2)\n",
    "        val_loss_class_0_long.append(loss_2_class0)\n",
    "        val_loss_class_1_long.append(loss_2_class1)\n",
    "        val_loss_class_2_long.append(loss_2_class2)\n",
    "\n",
    "        pred1 = confmap_preds_1[0,:,0,:,:]\n",
    "        pred2 = confmap_preds_2[0,:,0,:,:]\n",
    "        result1 = post_process_single_frame(pred1, dataset, config_dict)\n",
    "        result2 = post_process_single_frame(pred2, dataset, config_dict)\n",
    "        \n",
    "        seq_res_dir = os.path.join(test_res_dir_multi_1, seq_name)\n",
    "        if not os.path.exists(seq_res_dir):\n",
    "            os.makedirs(seq_res_dir)\n",
    "        f1 = open(os.path.join(seq_res_dir, 'rod_res_1.txt'), 'a')\n",
    "        f2 = open(os.path.join(seq_res_dir, 'rod_res_2.txt'), 'a')\n",
    "        f1.close()\n",
    "        f2.close()\n",
    "        save_path_1 = os.path.join(test_res_dir_multi_1, seq_name, 'rod_res_1.txt')\n",
    "        save_path_2 = os.path.join(test_res_dir_multi_1, seq_name, 'rod_res_2.txt')\n",
    "\n",
    "        write_dets_results_single_frame(result1, start_frame, save_path_1, dataset)\n",
    "        write_dets_results_single_frame(result2, start_frame, save_path_2, dataset)\n",
    "        \n",
    "        gt_path = os.path.join(dataset.data_root, 'annotations', 'train', seq_name.upper() + '.txt')\n",
    "        data_path = os.path.join(dataset.data_root, 'sequences', 'train', gt_path.split('/')[-1][:-4])\n",
    "        n_frame = len(os.listdir(os.path.join(data_path, dataset.sensor_cfg.camera_cfg['image_folder'])))\n",
    "        gt_dets = read_gt_txt(gt_path, n_frame, dataset)\n",
    "        sub_dets_1 = read_rodnet_res(save_path_1, n_frame, dataset)\n",
    "        sub_dets_2 = read_rodnet_res(save_path_2, n_frame, dataset)\n",
    "        if(sub_dets_1 == None or sub_dets_2 == None):\n",
    "            continue\n",
    "        olss_all_1 = {(start_frame, catId): compute_ols_dts_gts(gt_dets, sub_dets_1, start_frame, catId, dataset) \\\n",
    "                    for catId in range(3)}\n",
    "        olss_all_2 = {(start_frame, catId): compute_ols_dts_gts(gt_dets, sub_dets_2, start_frame, catId, dataset) \\\n",
    "                    for catId in range(3)}\n",
    "        ols_ans_1.append(olss_all_1)\n",
    "        ols_ans_1.append(olss_all_2)\n",
    "        \n",
    "        start_time = time.time()\n",
    "        infer_short_branch(rod_v1, data.float())\n",
    "        total_short_infer += time.time() - start_time\n",
    "        \n",
    "        start_time = time.time()\n",
    "        infer_long_branch(rod_v1, data.float())\n",
    "        total_long_infer += time.time() - start_time\n",
    "\n",
    "        if(len(gt_dets[start_frame,0]) == len(sub_dets_1[start_frame,0]) or len(gt_dets[start_frame,1]) == len(sub_dets_1[start_frame,1]) or len(gt_dets[start_frame,2]) == len(sub_dets_1[start_frame,2])):\n",
    "            total_ped_s += len(sub_dets_1[start_frame,0])\n",
    "            total_cyc_s += len(sub_dets_1[start_frame,1])\n",
    "            total_car_s += len(sub_dets_1[start_frame,2])\n",
    "            gt_total_ped_s += len(gt_dets[start_frame,0])\n",
    "            gt_total_cyc_s += len(gt_dets[start_frame,1])\n",
    "            gt_total_car_s += len(gt_dets[start_frame,2])\n",
    "            early_exit_count += 1\n",
    "        \n"
   ]
  },
  {
   "cell_type": "markdown",
   "metadata": {},
   "source": [
    "### Printing prediction results and average inference time."
   ]
  },
  {
   "cell_type": "code",
   "execution_count": 58,
   "metadata": {},
   "outputs": [
    {
     "name": "stdout",
     "output_type": "stream",
     "text": [
      "Number of samples successfully exited early 731\n",
      "Total number of actual pedestrians: 533 and detected : 342\n",
      "Total number of actual cyclist: 351 and detected : 419\n",
      "Total number of actual car: 410 and detected : 1767\n",
      "Average Short branch inference time : 0.9319982299804688 seconds\n",
      "Average Long branch inference time  : 1.1247846949100495 seconds\n"
     ]
    }
   ],
   "source": [
    "print(\"Number of samples successfully exited early {}\".format(early_exit_count))\n",
    "print(f\"Total number of actual pedestrians: {gt_total_ped_s} and detected : {total_ped_s}\")\n",
    "print(f\"Total number of actual cyclist: {gt_total_cyc_s} and detected : {total_cyc_s}\")\n",
    "print(f\"Total number of actual car: {gt_total_car_s} and detected : {total_car_s}\")\n",
    "print(f\"Average Short branch inference time : {total_short_infer/1000} seconds\")\n",
    "print(f\"Average Long branch inference time  : {total_long_infer/1000} seconds\")"
   ]
  },
  {
   "cell_type": "markdown",
   "metadata": {},
   "source": [
    "### Ploting the loss probability distribution curve."
   ]
  },
  {
   "cell_type": "code",
   "execution_count": 45,
   "metadata": {},
   "outputs": [
    {
     "data": {
      "image/png": "[encoded data removed]",
      "text/plain": [
       "<Figure size 1000x400 with 2 Axes>"
      ]
     },
     "metadata": {},
     "output_type": "display_data"
    }
   ],
   "source": [
    "from scipy.stats import norm\n",
    "plt.figure(figsize=(10, 4))\n",
    "plt.subplot(1,2,1)\n",
    "plt.hist(np.round(np.array(val_loss_class_0_short),3), bins=30, color='red', alpha=0.5, label='pedistrian',density=True)\n",
    "plt.hist(np.round(np.array(val_loss_class_1_short),3), bins=30, color='green', alpha=0.5, label='bicycle',density=True)\n",
    "plt.hist(np.round(np.array(val_loss_class_2_short),3), bins=30, color='blue', alpha=0.5, label='car',density=True)\n",
    "plt.title('loss pdf short branch')\n",
    "plt.xlabel('Loss')\n",
    "plt.ylabel('Probability Density')\n",
    "plt.legend(loc='upper left', ncol=3)\n",
    "plt.grid(True)\n",
    "\n",
    "plt.subplot(1,2,2)\n",
    "plt.hist(np.round(np.array(val_loss_class_0_long),3), bins=30, color='red', alpha=0.5, label='pedistrian',density=True)\n",
    "plt.hist(np.round(np.array(val_loss_class_1_long),3), bins=30, color='green', alpha=0.5, label='bicycle',density=True)\n",
    "plt.hist(np.round(np.array(val_loss_class_2_long),3), bins=30, color='blue', alpha=0.5, label='car',density=True)\n",
    "plt.title('loss pdf long branch')\n",
    "plt.xlabel('Loss')\n",
    "plt.ylabel('Probability Density')\n",
    "plt.legend(loc='upper left', ncol=3)\n",
    "plt.grid(True)\n",
    "plt.show()"
   ]
  }
 ],
 "metadata": {
  "kernelspec": {
   "display_name": "ENDG511",
   "language": "python",
   "name": "python3"
  },
  "language_info": {
   "codemirror_mode": {
    "name": "ipython",
    "version": 3
   },
   "file_extension": ".py",
   "mimetype": "text/x-python",
   "name": "python",
   "nbconvert_exporter": "python",
   "pygments_lexer": "ipython3",
   "version": "3.11.7"
  }
 },
 "nbformat": 4,
 "nbformat_minor": 2
}
