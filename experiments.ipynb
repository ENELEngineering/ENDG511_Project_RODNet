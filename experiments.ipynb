{
 "cells": [
  {
   "cell_type": "markdown",
   "metadata": {},
   "source": [
    "## ENDG 511 Project Experiment\n",
    "\n",
    "This notebook will showcase the project experiment with the intention of expanding on the RODNet implementations to apply concepts learned in the course such as pruning, quantization, and clustering for TinyAI and multibranching architectures for FastAI."
   ]
  },
  {
   "cell_type": "markdown",
   "metadata": {},
   "source": [
    "## Import Required Dependencies"
   ]
  },
  {
   "cell_type": "code",
   "execution_count": 22,
   "metadata": {},
   "outputs": [],
   "source": [
    "# RodNet\n",
    "from rodnet.core.post_processing import (\n",
    "    ConfmapStack, \n",
    "    post_process, \n",
    "    post_process_single_frame, \n",
    "    write_dets_results, \n",
    "    write_dets_results_single_frame, \n",
    "    lnms, \n",
    "    ops\n",
    ")\n",
    "from rodnet.utils.visualization import (\n",
    "    visualize_train_img, \n",
    "    visualize_test_img_wo_gt, \n",
    "    visualize_confmap, \n",
    "    visualize_test_img\n",
    ")\n",
    "from rodnet.utils.load_configs import (\n",
    "    load_configs_from_file, \n",
    "    parse_cfgs, \n",
    "    update_config_dict\n",
    ")\n",
    "from rodnet.utils.solve_dir import create_dir_for_new_model\n",
    "from plots import plot_loss, plot_base_pdf, plot_branch_pdf\n",
    "from rodnet.datasets.collate_functions import cr_collate\n",
    "from rodnet.datasets.CRDataset import CRDataset\n",
    "from cruw import CRUW\n",
    "\n",
    "# PyTorch\n",
    "from torch.optim.lr_scheduler import StepLR\n",
    "from torch.utils.data import DataLoader\n",
    "import matplotlib.pyplot as plt\n",
    "import torch.optim as optim\n",
    "import torch.nn as nn\n",
    "import torch\n",
    "\n",
    "# General\n",
    "import numpy as np\n",
    "import datetime\n",
    "import os"
   ]
  },
  {
   "cell_type": "markdown",
   "metadata": {},
   "source": [
    "## Define Project Paths\n",
    "\n",
    "If you don't prefer to change the following paths below, please visit ReadMe and follow instructions for proper setup of the project directories."
   ]
  },
  {
   "cell_type": "code",
   "execution_count": 2,
   "metadata": {},
   "outputs": [
    {
     "name": "stdout",
     "output_type": "stream",
     "text": [
      "Time of experiment is: 2024-03-21--16_48_31\n"
     ]
    }
   ],
   "source": [
    "# Date and time of experiment\n",
    "today = datetime.datetime.now().strftime('%Y-%m-%d--%H:%M:%S').replace(\":\", \"_\")\n",
    "print(f\"Time of experiment is: {today}\")"
   ]
  },
  {
   "cell_type": "code",
   "execution_count": 3,
   "metadata": {},
   "outputs": [],
   "source": [
    "config_fie = os.path.join(os.path.dirname(os.path.realpath('__file__')), \"configs/config_rodnet_cdc_win16.py\")\n",
    "\n",
    "# This dataset contains pkl file annotations that were converted.\n",
    "converted_dataset = os.path.join(os.path.dirname(os.path.realpath('__file__')), \"ROD2021/converted_new\")\n",
    "\n",
    "# This is the path to store the trained model weights in a pkl file. If this does not exist, this will be created.\n",
    "train_model_path = os.path.join(os.path.dirname(os.path.realpath('__file__')), f\"checkpoints/{today}\")\n",
    "\n",
    "# This is the path to store the model results, along with the history (JSON), config (JSON) and the plots (images).\n",
    "test_res_dir = os.path.join(os.path.dirname(os.path.realpath('__file__')), f\"results/{today}\")"
   ]
  },
  {
   "cell_type": "markdown",
   "metadata": {},
   "source": [
    "## Define Parameters"
   ]
  },
  {
   "cell_type": "code",
   "execution_count": 4,
   "metadata": {},
   "outputs": [
    {
     "name": "stdout",
     "output_type": "stream",
     "text": [
      "device=device(type='cuda')\n"
     ]
    }
   ],
   "source": [
    "# This is by default.\n",
    "sensor_config_name = \"sensor_config_rod2021\"\n",
    "noise_channel = False\n",
    "device = torch.device(\"cuda\" if torch.cuda.is_available() else \"cpu\")\n",
    "print(f\"{device=}\")"
   ]
  },
  {
   "cell_type": "markdown",
   "metadata": {},
   "source": [
    "## Load Project Paths"
   ]
  },
  {
   "cell_type": "code",
   "execution_count": 5,
   "metadata": {},
   "outputs": [],
   "source": [
    "if not os.path.exists(config_fie):\n",
    "    raise FileNotFoundError(f\"The configuration file does not exist at {config_fie}\")\n",
    "config_dict = load_configs_from_file(config_fie)\n",
    "\n",
    "if not os.path.exists(config_dict[\"dataset_cfg\"][\"base_root\"]):\n",
    "    path = config_dict['dataset_cfg']['base_root']\n",
    "    raise FileNotFoundError(f\"The configuration path does not exist: {path}\")\n",
    "\n",
    "if not os.path.exists(config_dict[\"dataset_cfg\"][\"data_root\"]):\n",
    "    path = config_dict['dataset_cfg']['data_root']\n",
    "    raise FileNotFoundError(f\"The configuration path does not exist: {path}\")\n",
    "\n",
    "if not os.path.exists(config_dict[\"dataset_cfg\"][\"anno_root\"]):\n",
    "    path = config_dict['dataset_cfg']['anno_root']\n",
    "    raise FileNotFoundError(f\"The configuration path does not exist: {path}\")\n",
    "\n",
    "model_cfg = config_dict['model_cfg']\n",
    "\n",
    "if not os.path.exists(train_model_path):\n",
    "    os.makedirs(train_model_path)\n",
    "\n",
    "if not os.path.exists(test_res_dir):\n",
    "    os.makedirs(test_res_dir)"
   ]
  },
  {
   "cell_type": "markdown",
   "metadata": {},
   "source": [
    "## Load Dataset"
   ]
  },
  {
   "cell_type": "code",
   "execution_count": 6,
   "metadata": {},
   "outputs": [
    {
     "name": "stderr",
     "output_type": "stream",
     "text": [
      "100%|██████████| 12/12 [00:03<00:00,  3.80it/s]"
     ]
    },
    {
     "name": "stdout",
     "output_type": "stream",
     "text": [
      "The total dataset samples: 3058\n"
     ]
    },
    {
     "name": "stderr",
     "output_type": "stream",
     "text": [
      "\n"
     ]
    }
   ],
   "source": [
    "dataset = CRUW(data_root=config_dict['dataset_cfg']['base_root'], \n",
    "               sensor_config_name=sensor_config_name)\n",
    "radar_configs = dataset.sensor_cfg.radar_cfg\n",
    "range_grid = dataset.range_grid         \n",
    "angle_grid = dataset.angle_grid  \n",
    "\n",
    "crdata_train = CRDataset(\n",
    "    data_dir=converted_dataset, \n",
    "    dataset=dataset, \n",
    "    config_dict=config_dict,\n",
    "    split='train',\n",
    "    noise_channel=noise_channel\n",
    ")\n",
    "print(f\"The total dataset samples: {len(crdata_train)}\")\n",
    "\n",
    "n_class = dataset.object_cfg.n_class          \n",
    "n_epoch = config_dict['train_cfg']['n_epoch']   \n",
    "batch_size = config_dict['train_cfg']['batch_size'] \n",
    "lr = config_dict['train_cfg']['lr']\n",
    "train_configs = config_dict['train_cfg']\n",
    "test_configs = config_dict['test_cfg']\n",
    "win_size = train_configs['win_size']"
   ]
  },
  {
   "cell_type": "markdown",
   "metadata": {},
   "source": [
    "### Split Dataset into Train and Validation"
   ]
  },
  {
   "cell_type": "code",
   "execution_count": 7,
   "metadata": {},
   "outputs": [
    {
     "name": "stdout",
     "output_type": "stream",
     "text": [
      "len(train_data)=2358\n",
      "len(validation_data)=700\n"
     ]
    }
   ],
   "source": [
    "# This is a random split, so ensure models are trained and evaluated in one session to have 1 to 1 comparison.\n",
    "train_data, validation_data = torch.utils.data.random_split(crdata_train,[2358,700])\n",
    "\n",
    "print(f\"{len(train_data)=}\")\n",
    "print(f\"{len(validation_data)=}\")"
   ]
  },
  {
   "cell_type": "markdown",
   "metadata": {},
   "source": [
    "### Define Dataset Loaders"
   ]
  },
  {
   "cell_type": "code",
   "execution_count": 8,
   "metadata": {},
   "outputs": [],
   "source": [
    "tdataloader = DataLoader(\n",
    "    train_data, \n",
    "    batch_size, \n",
    "    shuffle=True, \n",
    "    num_workers=0, \n",
    "    collate_fn=cr_collate)\n",
    "vdataloader = DataLoader(\n",
    "    validation_data, \n",
    "    batch_size=1, \n",
    "    shuffle=True, \n",
    "    num_workers=0, \n",
    "    collate_fn=cr_collate)"
   ]
  },
  {
   "cell_type": "markdown",
   "metadata": {},
   "source": [
    "## Import Model Dependencies"
   ]
  },
  {
   "cell_type": "code",
   "execution_count": 9,
   "metadata": {},
   "outputs": [],
   "source": [
    "import importlib\n",
    "import getModel\n",
    "importlib.reload(getModel)\n",
    "from getModel import RODNetBase, RODNetBranched\n",
    "import trainModel\n",
    "importlib.reload(trainModel)\n",
    "from trainModel import TrainBranchedHandler, TrainBaseHandler\n",
    "import validateModel\n",
    "importlib.reload(validateModel)\n",
    "from validateModel import ValidateBranchedHandler, ValidateBaseHandler"
   ]
  },
  {
   "cell_type": "markdown",
   "metadata": {},
   "source": [
    "## Load Base Model"
   ]
  },
  {
   "cell_type": "code",
   "execution_count": 10,
   "metadata": {},
   "outputs": [],
   "source": [
    "rodnet_base = RODNetBase(in_channels=2, n_class=n_class).to(device)\n",
    "base_optimizer = optim.Adam(rodnet_base.parameters(), lr=lr, eps=1e-4)\n",
    "base_criterion = nn.BCEWithLogitsLoss()\n",
    "base_scheduler = StepLR(base_optimizer, step_size=config_dict['train_cfg']['lr_step'], gamma=0.1)\n",
    "\n",
    "base_trainer = TrainBaseHandler(\n",
    "    rodnet_base,\n",
    "    base_criterion,\n",
    "    base_optimizer,\n",
    "    device,\n",
    "    base_scheduler,\n",
    "    n_epoch\n",
    ")"
   ]
  },
  {
   "cell_type": "code",
   "execution_count": 11,
   "metadata": {},
   "outputs": [
    {
     "name": "stdout",
     "output_type": "stream",
     "text": [
      "Number of encoder parameters: 28601088\n",
      "Number of decoder long parameters: 5919172\n",
      "Size (KB): 138101.54\n"
     ]
    }
   ],
   "source": [
    "rodnet_base.print_summary()\n",
    "rodnet_base.print_size_of_model()"
   ]
  },
  {
   "cell_type": "markdown",
   "metadata": {},
   "source": [
    "### Load F16 Quantized Base Model"
   ]
  },
  {
   "cell_type": "code",
   "execution_count": 12,
   "metadata": {},
   "outputs": [
    {
     "name": "stdout",
     "output_type": "stream",
     "text": [
      "Checking base model layer type...\n",
      "encoder.conv1a.weight :  torch.float32\n",
      "encoder.conv1a.bias :  torch.float32\n",
      "\n",
      "Checking quantized base model layer type...\n",
      "encoder.conv1a.weight :  torch.float16\n",
      "encoder.conv1a.bias :  torch.float16\n",
      "Size (KB): 69064.548\n",
      "\n",
      "Verifying number of parameters did not change...\n",
      "Number of encoder parameters: 28601088\n",
      "Number of decoder long parameters: 5919172\n"
     ]
    }
   ],
   "source": [
    "from copy import deepcopy\n",
    "# Base Float32 -> Float16 Quantization\n",
    "# Check layer type\n",
    "print(\"Checking base model layer type...\")\n",
    "# Note change to -1 to view full layer types.\n",
    "rodnet_base.print_parameter_type(cutoff=1)\n",
    "rodnet_base_f16 = deepcopy(rodnet_base).half()\n",
    "\n",
    "# Avoid convergence issues\n",
    "for layer in rodnet_base_f16.modules():\n",
    "  if isinstance(layer, nn.BatchNorm3d):\n",
    "    layer.float()\n",
    "\n",
    "  for child in layer.children():\n",
    "    if isinstance(child, nn.BatchNorm3d):\n",
    "        child.float()\n",
    "\n",
    "print(\"\\nChecking quantized base model layer type...\")\n",
    "# Note change to -1 to view full layer types.\n",
    "rodnet_base_f16.print_parameter_type(cutoff=1)\n",
    "rodnet_base_f16.print_size_of_model()\n",
    "print(\"\\nVerifying number of parameters did not change...\")\n",
    "rodnet_base_f16.print_summary()\n",
    "\n",
    "# Use a smaller eps because half precision will round it to 0, resulting in values of NaN for the loss.\n",
    "f16_quantized_base_optimizer = optim.Adam(rodnet_base_f16.parameters(), lr=lr, eps=1e-4) \n",
    "f16_quantized_base_criterion = nn.BCEWithLogitsLoss()\n",
    "f16_quantized_base_scheduler = StepLR(f16_quantized_base_optimizer, step_size=config_dict['train_cfg']['lr_step'], gamma=0.1)\n",
    "\n",
    "f16_quantized_base_trainer = TrainBaseHandler(\n",
    "    rodnet_base_f16,\n",
    "    f16_quantized_base_criterion,\n",
    "    f16_quantized_base_optimizer,\n",
    "    device,\n",
    "    f16_quantized_base_scheduler,\n",
    "    n_epoch,\n",
    "    half=True\n",
    ")"
   ]
  },
  {
   "cell_type": "markdown",
   "metadata": {},
   "source": [
    "### Load Int8 Quantized Base Model"
   ]
  },
  {
   "cell_type": "code",
   "execution_count": null,
   "metadata": {},
   "outputs": [],
   "source": [
    "# TODO: Implement"
   ]
  },
  {
   "cell_type": "markdown",
   "metadata": {},
   "source": [
    "## Load Branched Model"
   ]
  },
  {
   "cell_type": "code",
   "execution_count": null,
   "metadata": {},
   "outputs": [],
   "source": [
    "rodnet_branched = RODNetBranched(in_channels=2, n_class=n_class).to(device)\n",
    "branched_optimizer = optim.Adam(rodnet_branched.parameters(), lr=lr, eps=1e-4)\n",
    "branched_criterion = nn.BCEWithLogitsLoss()\n",
    "branched_scheduler = StepLR(branched_optimizer, step_size=config_dict['train_cfg']['lr_step'], gamma=0.1)\n",
    "\n",
    "branched_trainer = TrainBranchedHandler(\n",
    "    rodnet_branched,\n",
    "    branched_criterion,\n",
    "    branched_optimizer,\n",
    "    device,\n",
    "    branched_scheduler,\n",
    "    n_epoch\n",
    ")"
   ]
  },
  {
   "cell_type": "code",
   "execution_count": null,
   "metadata": {},
   "outputs": [],
   "source": [
    "rodnet_branched.print_summary()\n",
    "rodnet_branched.print_size_of_model()"
   ]
  },
  {
   "cell_type": "markdown",
   "metadata": {},
   "source": [
    "### Load F16 Quantized Branched Model"
   ]
  },
  {
   "cell_type": "code",
   "execution_count": null,
   "metadata": {},
   "outputs": [],
   "source": [
    "from copy import deepcopy\n",
    "# Base Float32 -> Float16 Quantization\n",
    "# Check layer type\n",
    "print(\"Checking branched model layer type...\")\n",
    "# Note change to -1 to view full layer types.\n",
    "rodnet_branched.print_parameter_type(cutoff=1)\n",
    "rodnet_branched_f16 = deepcopy(rodnet_branched).half()\n",
    "\n",
    "# Avoid convergence issues\n",
    "for layer in rodnet_branched_f16.modules():\n",
    "  if isinstance(layer, nn.BatchNorm3d):\n",
    "    layer.float()\n",
    "\n",
    "  for child in layer.children():\n",
    "    if isinstance(child, nn.BatchNorm3d):\n",
    "        child.float()\n",
    "\n",
    "print(\"\\nChecking quantized branch model layer type...\")\n",
    "# Note change to -1 to view full layer types.\n",
    "rodnet_branched_f16.print_parameter_type(cutoff=1)\n",
    "rodnet_branched_f16.print_size_of_model()\n",
    "print(\"\\nVerifying number of parameters did not change...\")\n",
    "rodnet_branched_f16.print_summary()\n",
    "\n",
    "# Use a smaller eps because half precision will round it to 0, resulting in values of NaN for the loss.\n",
    "f16_quantized_branched_optimizer = optim.Adam(rodnet_branched_f16.parameters(), lr=lr, eps=1e-4) \n",
    "f16_quantized_branched_criterion = nn.BCEWithLogitsLoss()\n",
    "f16_quantized_branched_scheduler = StepLR(f16_quantized_branched_optimizer, step_size=config_dict['train_cfg']['lr_step'], gamma=0.1)\n",
    "\n",
    "f16_quantized_branched_trainer = TrainBaseHandler(\n",
    "    rodnet_branched_f16,\n",
    "    f16_quantized_branched_criterion,\n",
    "    f16_quantized_branched_optimizer,\n",
    "    device,\n",
    "    f16_quantized_branched_scheduler,\n",
    "    n_epoch,\n",
    "    half=True\n",
    ")"
   ]
  },
  {
   "cell_type": "markdown",
   "metadata": {},
   "source": [
    "### Load Int8 Quantized Branched Model"
   ]
  },
  {
   "cell_type": "code",
   "execution_count": null,
   "metadata": {},
   "outputs": [],
   "source": [
    "# TODO: Implement"
   ]
  },
  {
   "cell_type": "markdown",
   "metadata": {},
   "source": [
    "## Load Prune Model"
   ]
  },
  {
   "cell_type": "code",
   "execution_count": null,
   "metadata": {},
   "outputs": [],
   "source": [
    "# TODO: Implement"
   ]
  },
  {
   "cell_type": "markdown",
   "metadata": {},
   "source": [
    "## Load Clustering Model"
   ]
  },
  {
   "cell_type": "code",
   "execution_count": null,
   "metadata": {},
   "outputs": [],
   "source": [
    "# TODO: Implement"
   ]
  },
  {
   "cell_type": "markdown",
   "metadata": {},
   "source": [
    "## Train and Evaluate Base Model"
   ]
  },
  {
   "cell_type": "code",
   "execution_count": 13,
   "metadata": {},
   "outputs": [],
   "source": [
    "test_res_dir_base = os.path.join(test_res_dir, \"base\")\n",
    "if not os.path.exists(test_res_dir_base):\n",
    "    os.makedirs(test_res_dir_base)\n",
    "\n",
    "train_model_path_base = os.path.join(train_model_path, \"base\")\n",
    "if not os.path.exists(train_model_path_base):\n",
    "    os.makedirs(train_model_path_base)"
   ]
  },
  {
   "cell_type": "code",
   "execution_count": 14,
   "metadata": {},
   "outputs": [
    {
     "name": "stdout",
     "output_type": "stream",
     "text": [
      "epoch 1 --> trainLoss: 0.837\n",
      "saving current epoch model ...\n",
      "epoch 2 --> trainLoss: 0.696\n",
      "saving current epoch model ...\n",
      "epoch 3 --> trainLoss: 0.694\n",
      "saving current epoch model ...\n",
      "epoch 4 --> trainLoss: 0.694\n",
      "saving current epoch model ...\n",
      "epoch 5 --> trainLoss: 0.693\n",
      "saving current epoch model ...\n"
     ]
    }
   ],
   "source": [
    "trained_rodnet_base, history_base = base_trainer.train(tdataloader, train_model_path_base)\n",
    "base_trainer.save_metrics(test_res_dir_base)"
   ]
  },
  {
   "cell_type": "code",
   "execution_count": 15,
   "metadata": {},
   "outputs": [
    {
     "name": "stdout",
     "output_type": "stream",
     "text": [
      "Base Model Loss: [0.8370231342517723, 0.6962193781036442, 0.6941373058294846, 0.6936829993280313, 0.6934934628211846]\n"
     ]
    }
   ],
   "source": [
    "print(f\"Base Model Loss: {history_base['train']['loss']}\")\n",
    "\n",
    "# TODO: Report Precision, Recall, Accuracy"
   ]
  },
  {
   "cell_type": "markdown",
   "metadata": {},
   "source": [
    "### Plot Loss"
   ]
  },
  {
   "cell_type": "code",
   "execution_count": 25,
   "metadata": {},
   "outputs": [
    {
     "name": "stderr",
     "output_type": "stream",
     "text": [
      "C:\\Users\\john.s\\AppData\\Local\\Temp\\ipykernel_12032\\3461239881.py:23: UserWarning: FigureCanvasAgg is non-interactive, and thus cannot be shown\n",
      "  fig.show()\n"
     ]
    },
    {
     "data": {
      "image/png": "[encoded data removed]",
      "text/plain": [
       "<Figure size 900x600 with 1 Axes>"
      ]
     },
     "metadata": {},
     "output_type": "display_data"
    }
   ],
   "source": [
    "total_loss = history_base['train']['loss']\n",
    "epochs = list(range(n_epoch))\n",
    "\n",
    "fig = plot_loss(\"Base Model\", epochs, [total_loss], [\"Base Model\"]) # NOSONAR\n",
    "fig.savefig(os.path.join(test_res_dir_base, \"base_loss.png\"))\n",
    "fig.show()"
   ]
  },
  {
   "cell_type": "markdown",
   "metadata": {},
   "source": [
    "### Evaluate Model"
   ]
  },
  {
   "cell_type": "code",
   "execution_count": 35,
   "metadata": {},
   "outputs": [],
   "source": [
    "base_model = RODNetBase(in_channels=2, n_class=n_class).to(device)\n",
    "base_model.load_state_dict(torch.load(\n",
    "    os.path.join(train_model_path_base,'base_epoch_0{}_final.pkl'.format(n_epoch))))\n",
    "base_model.eval()\n",
    "\n",
    "base_validator = ValidateBaseHandler(\n",
    "    base_model,\n",
    "    dataset,\n",
    "    config_dict, \n",
    "    base_criterion,\n",
    "    device\n",
    ")"
   ]
  },
  {
   "cell_type": "code",
   "execution_count": 38,
   "metadata": {},
   "outputs": [],
   "source": [
    "base_validator.validate(vdataloader, test_res_dir_base)\n",
    "base_validator.save_metrics(test_res_dir_base)"
   ]
  },
  {
   "cell_type": "markdown",
   "metadata": {},
   "source": [
    "### Plot PDF"
   ]
  },
  {
   "cell_type": "code",
   "execution_count": 41,
   "metadata": {},
   "outputs": [
    {
     "name": "stderr",
     "output_type": "stream",
     "text": [
      "C:\\Users\\john.s\\AppData\\Local\\Temp\\ipykernel_12032\\4147640842.py:24: UserWarning: FigureCanvasAgg is non-interactive, and thus cannot be shown\n",
      "  fig.show()\n"
     ]
    },
    {
     "data": {
      "image/png": "[encoded data removed]",
      "text/plain": [
       "<Figure size 900x600 with 1 Axes>"
      ]
     },
     "metadata": {},
     "output_type": "display_data"
    }
   ],
   "source": [
    "fig = plot_base_pdf(\"Base Model\", base_validator.metrics)\n",
    "fig.savefig(os.path.join(test_res_dir_base, \"base_pdf.png\"))\n",
    "fig.show()"
   ]
  },
  {
   "cell_type": "markdown",
   "metadata": {},
   "source": [
    "## Train and Evaluate Base F16 Quantized Model"
   ]
  },
  {
   "cell_type": "code",
   "execution_count": 42,
   "metadata": {},
   "outputs": [],
   "source": [
    "test_res_dir_base_f16_quantized = os.path.join(test_res_dir, \"base_quantized_f16\")\n",
    "if not os.path.exists(test_res_dir_base_f16_quantized):\n",
    "    os.makedirs(test_res_dir_base_f16_quantized)\n",
    "\n",
    "train_model_path_base_f16_quantized = os.path.join(train_model_path, \"base_quantized_f16\")\n",
    "if not os.path.exists(train_model_path_base_f16_quantized):\n",
    "    os.makedirs(train_model_path_base_f16_quantized)"
   ]
  },
  {
   "cell_type": "code",
   "execution_count": 43,
   "metadata": {},
   "outputs": [
    {
     "name": "stdout",
     "output_type": "stream",
     "text": [
      "iter=388\r"
     ]
    }
   ],
   "source": [
    "trained_rodnet_base_quantized_f16, history_base_quantized_f16 = f16_quantized_base_trainer.train(tdataloader, train_model_path_base_f16_quantized)\n",
    "f16_quantized_base_trainer.save_metrics(test_res_dir_base_f16_quantized)"
   ]
  },
  {
   "cell_type": "code",
   "execution_count": null,
   "metadata": {},
   "outputs": [],
   "source": [
    "print(f\"F16 Quantized Base Model Loss: {history_base_quantized_f16['train']['loss']}\")\n",
    "\n",
    "# TODO: Report Precision, Recall, Accuracy"
   ]
  },
  {
   "cell_type": "markdown",
   "metadata": {},
   "source": [
    "### Plot Loss"
   ]
  },
  {
   "cell_type": "code",
   "execution_count": null,
   "metadata": {},
   "outputs": [],
   "source": [
    "total_loss = history_base_quantized_f16['train']['loss']\n",
    "epochs = list(range(n_epoch))\n",
    "\n",
    "fig = plot_loss(\"F16 Quantized Base Model\", epochs, [total_loss], [\"F16 Quantized Base Model\"])\n",
    "fig.savefig(os.path.join(test_res_dir_base_f16_quantized, \"f16_quantized_base_loss.png\"))\n",
    "fig.show()"
   ]
  },
  {
   "cell_type": "markdown",
   "metadata": {},
   "source": [
    "### Evaluate Model"
   ]
  },
  {
   "cell_type": "code",
   "execution_count": null,
   "metadata": {},
   "outputs": [],
   "source": [
    "f16_quantized_base_model = RODNetBase(in_channels=2, n_class=n_class).to(device)\n",
    "f16_quantized_base_model.half()\n",
    "\n",
    "# Avoid convergence issues\n",
    "for layer in f16_quantized_base_model.modules():\n",
    "  if isinstance(layer, nn.BatchNorm3d):\n",
    "    layer.float()\n",
    "\n",
    "  for child in layer.children():\n",
    "    if isinstance(child, nn.BatchNorm3d):\n",
    "        child.float()\n",
    "\n",
    "f16_quantized_base_model.load_state_dict(torch.load(\n",
    "    os.path.join(train_model_path_base_f16_quantized,'base_epoch_0{}_final.pkl'.format(n_epoch))))\n",
    "f16_quantized_base_model.eval()\n",
    "\n",
    "f16_quantized_base_validator = ValidateBaseHandler(\n",
    "    f16_quantized_base_model,\n",
    "    dataset,\n",
    "    config_dict, \n",
    "    f16_quantized_base_criterion,\n",
    "    device\n",
    ")"
   ]
  },
  {
   "cell_type": "code",
   "execution_count": null,
   "metadata": {},
   "outputs": [],
   "source": [
    "f16_quantized_base_validator.validate(vdataloader, test_res_dir_base_f16_quantized)\n",
    "f16_quantized_base_validator.save_metrics(test_res_dir_base_f16_quantized)"
   ]
  },
  {
   "cell_type": "markdown",
   "metadata": {},
   "source": [
    "### Plot PDF"
   ]
  },
  {
   "cell_type": "code",
   "execution_count": null,
   "metadata": {},
   "outputs": [],
   "source": [
    "fig = plot_base_pdf(\"F16 Quantized Base Model\", f16_quantized_base_validator.metrics)\n",
    "fig.savefig(os.path.join(test_res_dir_base_f16_quantized, \"f16_quantized_base_pdf.png\"))\n",
    "fig.show()"
   ]
  },
  {
   "cell_type": "markdown",
   "metadata": {},
   "source": [
    "## Train and Evaluate Multibranch Model"
   ]
  },
  {
   "cell_type": "code",
   "execution_count": null,
   "metadata": {},
   "outputs": [],
   "source": [
    "test_res_dir_branched = os.path.join(test_res_dir, \"branched\")\n",
    "if not os.path.exists(test_res_dir_branched):\n",
    "    os.makedirs(test_res_dir_branched)\n",
    "\n",
    "train_model_path_branched = os.path.join(train_model_path, \"branched\")\n",
    "if not os.path.exists(train_model_path_branched):\n",
    "    os.makedirs(train_model_path_branched)"
   ]
  },
  {
   "cell_type": "code",
   "execution_count": null,
   "metadata": {},
   "outputs": [],
   "source": [
    "trained_rodnet_branched, history_branched = branched_trainer.train(tdataloader, train_model_path_branched)\n",
    "branched_trainer.save_metrics(test_res_dir_branched)"
   ]
  },
  {
   "cell_type": "code",
   "execution_count": null,
   "metadata": {},
   "outputs": [],
   "source": [
    "print(f\"Branched Model Total Loss: {history_branched['total']['train']['loss']}\")\n",
    "\n",
    "# TODO: Report Precision, Recall, Accuracy"
   ]
  },
  {
   "cell_type": "markdown",
   "metadata": {},
   "source": [
    "### Plot Loss"
   ]
  },
  {
   "cell_type": "code",
   "execution_count": null,
   "metadata": {},
   "outputs": [],
   "source": [
    "total_loss = history_branched['total']['train']['loss']\n",
    "short_branch_loss = history_branched['short_branched']['train']['loss']\n",
    "long_branch_loss = history_branched['long_branched']['train']['loss']\n",
    "epochs = list(range(n_epoch))\n",
    "\n",
    "fig = plot_loss(\n",
    "    \"Multibranch Model\", \n",
    "    epochs, \n",
    "    [total_loss, short_branch_loss, long_branch_loss], \n",
    "    [\"Total\", \"Short Branch\", \"Long Branch\"]\n",
    ")\n",
    "fig.savefig(os.path.join(test_res_dir_branched, \"branch_loss.png\"))\n",
    "fig.show()"
   ]
  },
  {
   "cell_type": "markdown",
   "metadata": {},
   "source": [
    "### Evaluate Model"
   ]
  },
  {
   "cell_type": "code",
   "execution_count": null,
   "metadata": {},
   "outputs": [],
   "source": [
    "branched_model = RODNetBranched(in_channels=2, n_class=n_class).to(device)\n",
    "branched_model.load_state_dict(torch.load(\n",
    "    os.path.join(train_model_path_branched,'multi_epoch_0{}_final.pkl'.format(n_epoch))))\n",
    "branched_model.eval()\n",
    "\n",
    "branched_validator = ValidateBranchedHandler(\n",
    "    branched_model,\n",
    "    dataset,\n",
    "    config_dict, \n",
    "    branched_criterion,\n",
    "    device\n",
    ")"
   ]
  },
  {
   "cell_type": "code",
   "execution_count": null,
   "metadata": {},
   "outputs": [],
   "source": [
    "branched_validator.validate(vdataloader, test_res_dir_branched)\n",
    "branched_validator.save_metrics(test_res_dir_branched)"
   ]
  },
  {
   "cell_type": "markdown",
   "metadata": {},
   "source": [
    "### Plot PDF"
   ]
  },
  {
   "cell_type": "code",
   "execution_count": null,
   "metadata": {},
   "outputs": [],
   "source": [
    "fig = plot_branch_pdf(\"Branch Model\", branched_validator.metrics)\n",
    "fig.savefig(os.path.join(test_res_dir_branched, \"branch_pdf.png\"))\n",
    "fig.show()"
   ]
  },
  {
   "cell_type": "markdown",
   "metadata": {},
   "source": [
    "## Train and Evaluate Multibranch F16 Quantized Model"
   ]
  },
  {
   "cell_type": "code",
   "execution_count": null,
   "metadata": {},
   "outputs": [],
   "source": [
    "test_res_dir_branched_f16 = os.path.join(test_res_dir, \"branched_quantized_f16\")\n",
    "if not os.path.exists(test_res_dir_branched_f16):\n",
    "    os.makedirs(test_res_dir_branched_f16)\n",
    "\n",
    "train_model_path_branched_f16 = os.path.join(train_model_path, \"branched_quantized_f16\")\n",
    "if not os.path.exists(train_model_path_branched_f16):\n",
    "    os.makedirs(train_model_path_branched_f16)"
   ]
  },
  {
   "cell_type": "code",
   "execution_count": null,
   "metadata": {},
   "outputs": [],
   "source": [
    "trained_rodnet_branched_f16, history_branched_f16 = f16_quantized_branched_trainer.train(tdataloader, train_model_path_branched_f16)\n",
    "f16_quantized_branched_trainer.save_metrics(test_res_dir_branched_f16)"
   ]
  },
  {
   "cell_type": "code",
   "execution_count": null,
   "metadata": {},
   "outputs": [],
   "source": [
    "print(f\"F16 Quantized Branched Model Total Loss: {history_branched_f16['total']['train']['loss']}\")\n",
    "\n",
    "# TODO: Report Precision, Recall, Accuracy"
   ]
  },
  {
   "cell_type": "markdown",
   "metadata": {},
   "source": [
    "### Plot Loss"
   ]
  },
  {
   "cell_type": "code",
   "execution_count": null,
   "metadata": {},
   "outputs": [],
   "source": [
    "total_loss = history_branched_f16['total']['train']['loss']\n",
    "short_branch_loss = history_branched_f16['short_branched']['train']['loss']\n",
    "long_branch_loss = history_branched_f16['long_branched']['train']['loss']\n",
    "epochs = list(range(n_epoch))\n",
    "\n",
    "fig = plot_loss(\n",
    "    \"F16 Quantized Multibranch Model\", \n",
    "    epochs, \n",
    "    [total_loss, short_branch_loss, long_branch_loss], \n",
    "    [\"Total\", \"Short Branch\", \"Long Branch\"]\n",
    ")\n",
    "fig.savefig(os.path.join(test_res_dir_branched_f16, \"f16_quantized_branch_loss.png\"))\n",
    "fig.show()"
   ]
  },
  {
   "cell_type": "markdown",
   "metadata": {},
   "source": [
    "### Evaluate Model"
   ]
  },
  {
   "cell_type": "code",
   "execution_count": null,
   "metadata": {},
   "outputs": [],
   "source": [
    "f16_quantized_branched_model = RODNetBranched(in_channels=2, n_class=n_class).to(device)\n",
    "f16_quantized_branched_model.half()\n",
    "\n",
    "# Avoid convergence issues\n",
    "for layer in f16_quantized_branched_model.modules():\n",
    "  if isinstance(layer, nn.BatchNorm3d):\n",
    "    layer.float()\n",
    "\n",
    "  for child in layer.children():\n",
    "    if isinstance(child, nn.BatchNorm3d):\n",
    "        child.float()\n",
    "\n",
    "f16_quantized_branched_model.load_state_dict(torch.load(\n",
    "    os.path.join(train_model_path_branched_f16,'multi_epoch_0{}_final.pkl'.format(n_epoch))))\n",
    "f16_quantized_branched_model.eval()\n",
    "\n",
    "f16_quantized_branched_validator = ValidateBranchedHandler(\n",
    "    f16_quantized_branched_model,\n",
    "    dataset,\n",
    "    config_dict, \n",
    "    f16_quantized_branched_criterion,\n",
    "    device\n",
    ")"
   ]
  },
  {
   "cell_type": "code",
   "execution_count": null,
   "metadata": {},
   "outputs": [],
   "source": [
    "f16_quantized_branched_validator.validate(vdataloader, test_res_dir_branched_f16)\n",
    "f16_quantized_base_validator.save_metrics(test_res_dir_branched_f16)"
   ]
  },
  {
   "cell_type": "markdown",
   "metadata": {},
   "source": [
    "### Plot PDF"
   ]
  },
  {
   "cell_type": "code",
   "execution_count": null,
   "metadata": {},
   "outputs": [],
   "source": [
    "fig = plot_branch_pdf(\"F16 Quantized Branch Model\", f16_quantized_branched_validator.metrics)\n",
    "fig.savefig(os.path.join(test_res_dir_branched_f16, \"f16_quantized_branch_pdf.png\"))\n",
    "fig.show()"
   ]
  }
 ],
 "metadata": {
  "kernelspec": {
   "display_name": "ENDG511",
   "language": "python",
   "name": "python3"
  },
  "language_info": {
   "codemirror_mode": {
    "name": "ipython",
    "version": 3
   },
   "file_extension": ".py",
   "mimetype": "text/x-python",
   "name": "python",
   "nbconvert_exporter": "python",
   "pygments_lexer": "ipython3",
   "version": "3.11.8"
  }
 },
 "nbformat": 4,
 "nbformat_minor": 2
}
