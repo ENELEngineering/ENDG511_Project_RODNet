{
 "cells": [
  {
   "cell_type": "markdown",
   "metadata": {},
   "source": [
    "## ENDG 511 Project Experiment\n",
    "\n",
    "This notebook will showcase the project experiment with the intention of expanding on the RODNet implementations to apply concepts learned in the course such as pruning, quantization, and clustering for TinyAI and multibranching architectures for FastAI."
   ]
  },
  {
   "cell_type": "markdown",
   "metadata": {},
   "source": [
    "### Import Required Dependencies"
   ]
  },
  {
   "cell_type": "code",
   "execution_count": 16,
   "metadata": {},
   "outputs": [],
   "source": [
    "# RodNet\n",
    "from rodnet.core.post_processing import (\n",
    "    ConfmapStack, \n",
    "    post_process, \n",
    "    post_process_single_frame, \n",
    "    write_dets_results, \n",
    "    write_dets_results_single_frame, \n",
    "    lnms, \n",
    "    ops\n",
    ")\n",
    "from rodnet.utils.visualization import (\n",
    "    visualize_train_img, \n",
    "    visualize_test_img_wo_gt, \n",
    "    visualize_confmap, \n",
    "    visualize_test_img\n",
    ")\n",
    "from rodnet.utils.load_configs import (\n",
    "    load_configs_from_file, \n",
    "    parse_cfgs, \n",
    "    update_config_dict\n",
    ")\n",
    "from rodnet.utils.solve_dir import create_dir_for_new_model\n",
    "from rodnet.datasets.collate_functions import cr_collate\n",
    "from rodnet.datasets.CRDataset import CRDataset\n",
    "from cruw import CRUW\n",
    "\n",
    "# PyTorch\n",
    "from torch.optim.lr_scheduler import StepLR\n",
    "from torch.utils.data import DataLoader\n",
    "from torchsummary import summary\n",
    "import matplotlib.pyplot as plt\n",
    "import torch.optim as optim\n",
    "import torch.nn as nn\n",
    "import torch\n",
    "\n",
    "# General\n",
    "import numpy as np\n",
    "import datetime\n",
    "import pickle\n",
    "import json\n",
    "import os"
   ]
  },
  {
   "cell_type": "markdown",
   "metadata": {},
   "source": [
    "### Define Project Paths\n",
    "\n",
    "If you don't prefer to change the following paths below, please visit ReadMe and follow instructions for proper setup of the project directories."
   ]
  },
  {
   "cell_type": "code",
   "execution_count": 17,
   "metadata": {},
   "outputs": [
    {
     "name": "stdout",
     "output_type": "stream",
     "text": [
      "Time of experiment is: 2024-03-20--18_18_42\n"
     ]
    }
   ],
   "source": [
    "# Date and time of experiment\n",
    "today = datetime.datetime.now().strftime('%Y-%m-%d--%H:%M:%S').replace(\":\", \"_\")\n",
    "print(f\"Time of experiment is: {today}\")"
   ]
  },
  {
   "cell_type": "code",
   "execution_count": 18,
   "metadata": {},
   "outputs": [],
   "source": [
    "config_fie = os.path.join(os.path.dirname(os.path.realpath('__file__')), \"configs/config_rodnet_cdc_win16.py\")\n",
    "\n",
    "# This dataset contains pkl file annotations that were converted.\n",
    "converted_dataset = os.path.join(os.path.dirname(os.path.realpath('__file__')), \"ROD2021/converted_new\")\n",
    "\n",
    "# This is the path to store the trained model weights in a pkl file. If this does not exist, this will be created.\n",
    "train_model_path = os.path.join(os.path.dirname(os.path.realpath('__file__')), f\"checkpoints/{today}\")\n",
    "\n",
    "# This is the path to store the model results, along with the history (JSON), config (JSON) and the plots (images).\n",
    "test_res_dir = os.path.join(os.path.dirname(os.path.realpath('__file__')), f\"results/{today}\")"
   ]
  },
  {
   "cell_type": "markdown",
   "metadata": {},
   "source": [
    "### Define Parameters"
   ]
  },
  {
   "cell_type": "code",
   "execution_count": 19,
   "metadata": {},
   "outputs": [],
   "source": [
    "# This is by default.\n",
    "sensor_config_name = \"sensor_config_rod2021\"\n",
    "noise_channel = False\n",
    "device = torch.device(torch.device(\"cuda:0\") if torch.cuda.is_available() else torch.device(\"cpu:0\"))"
   ]
  },
  {
   "cell_type": "markdown",
   "metadata": {},
   "source": [
    "### Load Project Paths"
   ]
  },
  {
   "cell_type": "code",
   "execution_count": 20,
   "metadata": {},
   "outputs": [],
   "source": [
    "if not os.path.exists(config_fie):\n",
    "    raise FileNotFoundError(f\"The configuration file does not exist at {config_fie}\")\n",
    "config_dict = load_configs_from_file(config_fie)\n",
    "\n",
    "if not os.path.exists(config_dict[\"dataset_cfg\"][\"base_root\"]):\n",
    "    path = config_dict['dataset_cfg']['base_root']\n",
    "    raise FileNotFoundError(f\"The configuration path does not exist: {path}\")\n",
    "\n",
    "if not os.path.exists(config_dict[\"dataset_cfg\"][\"data_root\"]):\n",
    "    path = config_dict['dataset_cfg']['data_root']\n",
    "    raise FileNotFoundError(f\"The configuration path does not exist: {path}\")\n",
    "\n",
    "if not os.path.exists(config_dict[\"dataset_cfg\"][\"anno_root\"]):\n",
    "    path = config_dict['dataset_cfg']['anno_root']\n",
    "    raise FileNotFoundError(f\"The configuration path does not exist: {path}\")\n",
    "\n",
    "model_cfg = config_dict['model_cfg']\n",
    "\n",
    "if not os.path.exists(train_model_path):\n",
    "    os.makedirs(train_model_path)\n",
    "\n",
    "if not os.path.exists(test_res_dir):\n",
    "    os.makedirs(test_res_dir)"
   ]
  },
  {
   "cell_type": "markdown",
   "metadata": {},
   "source": [
    "### Load Dataset"
   ]
  },
  {
   "cell_type": "code",
   "execution_count": 21,
   "metadata": {},
   "outputs": [
    {
     "name": "stderr",
     "output_type": "stream",
     "text": [
      "  0%|          | 0/12 [00:00<?, ?it/s]"
     ]
    },
    {
     "name": "stderr",
     "output_type": "stream",
     "text": [
      "100%|██████████| 12/12 [00:07<00:00,  1.69it/s]"
     ]
    },
    {
     "name": "stdout",
     "output_type": "stream",
     "text": [
      "The total dataset samples: 3058\n"
     ]
    },
    {
     "name": "stderr",
     "output_type": "stream",
     "text": [
      "\n"
     ]
    }
   ],
   "source": [
    "dataset = CRUW(data_root=config_dict['dataset_cfg']['base_root'], \n",
    "               sensor_config_name=sensor_config_name)\n",
    "radar_configs = dataset.sensor_cfg.radar_cfg\n",
    "range_grid = dataset.range_grid         \n",
    "angle_grid = dataset.angle_grid  \n",
    "\n",
    "crdata_train = CRDataset(\n",
    "    data_dir=converted_dataset, \n",
    "    dataset=dataset, \n",
    "    config_dict=config_dict,\n",
    "    split='train',\n",
    "    noise_channel=noise_channel\n",
    ")\n",
    "print(f\"The total dataset samples: {len(crdata_train)}\")\n",
    "\n",
    "n_class = dataset.object_cfg.n_class          \n",
    "n_epoch = config_dict['train_cfg']['n_epoch']   \n",
    "batch_size = config_dict['train_cfg']['batch_size'] \n",
    "lr = config_dict['train_cfg']['lr']\n",
    "train_configs = config_dict['train_cfg']\n",
    "test_configs = config_dict['test_cfg']\n",
    "win_size = train_configs['win_size']"
   ]
  },
  {
   "cell_type": "markdown",
   "metadata": {},
   "source": [
    "### Split Dataset into Train and Validation"
   ]
  },
  {
   "cell_type": "code",
   "execution_count": 22,
   "metadata": {},
   "outputs": [],
   "source": [
    "test_data, validation_data = torch.utils.data.random_split(crdata_train,[2358,700])"
   ]
  },
  {
   "cell_type": "markdown",
   "metadata": {},
   "source": [
    "### Define Dataset Loaders"
   ]
  },
  {
   "cell_type": "code",
   "execution_count": 23,
   "metadata": {},
   "outputs": [],
   "source": [
    "tdataloader = DataLoader(\n",
    "    test_data, \n",
    "    batch_size, \n",
    "    shuffle=True, \n",
    "    num_workers=0, \n",
    "    collate_fn=cr_collate)\n",
    "vdataloader = DataLoader(\n",
    "    validation_data, \n",
    "    batch_size=1, \n",
    "    shuffle=True, \n",
    "    num_workers=0, \n",
    "    collate_fn=cr_collate)"
   ]
  },
  {
   "cell_type": "markdown",
   "metadata": {},
   "source": [
    "### Import Model Dependencies"
   ]
  },
  {
   "cell_type": "code",
   "execution_count": 30,
   "metadata": {},
   "outputs": [],
   "source": [
    "import imp\n",
    "import getModel\n",
    "imp.reload(getModel)\n",
    "from getModel import RODNetBase, RODNetBranched\n",
    "import trainModel\n",
    "imp.reload(trainModel)\n",
    "from trainModel import TrainBranchedHandler, TrainBaseHandler"
   ]
  },
  {
   "cell_type": "markdown",
   "metadata": {},
   "source": [
    "### Load Base Model"
   ]
  },
  {
   "cell_type": "code",
   "execution_count": 32,
   "metadata": {},
   "outputs": [],
   "source": [
    "rodnet_base = RODNetBase(in_channels=2, n_class=n_class).to(device)\n",
    "base_optimizer = optim.Adam(rodnet_base.parameters(), lr=lr)\n",
    "base_criterion = nn.BCELoss()\n",
    "base_scheduler = StepLR(base_optimizer, step_size=config_dict['train_cfg']['lr_step'], gamma=0.1)\n",
    "\n",
    "base_trainer = TrainBaseHandler(\n",
    "    rodnet_base,\n",
    "    base_criterion,\n",
    "    base_optimizer,\n",
    "    device,\n",
    "    base_scheduler,\n",
    "    n_epoch\n",
    ")"
   ]
  },
  {
   "cell_type": "code",
   "execution_count": 33,
   "metadata": {},
   "outputs": [
    {
     "name": "stdout",
     "output_type": "stream",
     "text": [
      "Number of encoder parameters: 28601088\n",
      "Number of decoder long parameters: 5919172\n"
     ]
    }
   ],
   "source": [
    "rodnet_base.print_summary()"
   ]
  },
  {
   "cell_type": "markdown",
   "metadata": {},
   "source": [
    "### Load Branched Model"
   ]
  },
  {
   "cell_type": "code",
   "execution_count": 35,
   "metadata": {},
   "outputs": [],
   "source": [
    "rodnet_branched = RODNetBranched(in_channels=2, n_class=n_class).to(device)\n",
    "branched_optimizer = optim.Adam(rodnet_branched.parameters(), lr=lr)\n",
    "branched_criterion = nn.BCELoss()\n",
    "branched_scheduler = StepLR(branched_optimizer, step_size=config_dict['train_cfg']['lr_step'], gamma=0.1)\n",
    "\n",
    "branched_trainer = TrainBranchedHandler(\n",
    "    rodnet_branched,\n",
    "    branched_criterion,\n",
    "    branched_optimizer,\n",
    "    device,\n",
    "    branched_scheduler,\n",
    "    n_epoch\n",
    ")"
   ]
  },
  {
   "cell_type": "code",
   "execution_count": 36,
   "metadata": {},
   "outputs": [
    {
     "name": "stdout",
     "output_type": "stream",
     "text": [
      "Number of encoder parameters: 6481152\n",
      "Number of decoder short parameters: 1200452\n",
      "Number of decoder long parameters: 28038596\n"
     ]
    }
   ],
   "source": [
    "rodnet_branched.print_summary()"
   ]
  },
  {
   "cell_type": "markdown",
   "metadata": {},
   "source": [
    "### Load Prune Model"
   ]
  },
  {
   "cell_type": "code",
   "execution_count": null,
   "metadata": {},
   "outputs": [],
   "source": [
    "# TODO: Implement"
   ]
  },
  {
   "cell_type": "markdown",
   "metadata": {},
   "source": [
    "### Load Quantization Model"
   ]
  },
  {
   "cell_type": "code",
   "execution_count": null,
   "metadata": {},
   "outputs": [],
   "source": [
    "# TODO: Implement"
   ]
  },
  {
   "cell_type": "markdown",
   "metadata": {},
   "source": [
    "### Load Clustering Model"
   ]
  },
  {
   "cell_type": "code",
   "execution_count": null,
   "metadata": {},
   "outputs": [],
   "source": [
    "# TODO: Implement"
   ]
  },
  {
   "cell_type": "markdown",
   "metadata": {},
   "source": [
    "***Train base Model***"
   ]
  },
  {
   "cell_type": "code",
   "execution_count": 37,
   "metadata": {},
   "outputs": [],
   "source": [
    "rodNet_v0, history_v0 = base_trainer.train(tdataloader, train_model_path)\n",
    "base_trainer.save_metrics(test_res_dir)\n",
    "\n",
    "# TODO: Report Precision, Recall, Accuracy"
   ]
  },
  {
   "cell_type": "code",
   "execution_count": 14,
   "metadata": {},
   "outputs": [
    {
     "name": "stdout",
     "output_type": "stream",
     "text": [
      "{'train': {'loss': [0.11253852646924177, 0.026596574266677945, 0.024204503046151377, 0.02297205110830334, 0.022205296422402234]}}\n"
     ]
    }
   ],
   "source": [
    "print(history_v0)"
   ]
  },
  {
   "cell_type": "code",
   "execution_count": 13,
   "metadata": {},
   "outputs": [
    {
     "data": {
      "image/png": "[encoded data removed]",
      "text/plain": [
       "<Figure size 640x480 with 1 Axes>"
      ]
     },
     "metadata": {},
     "output_type": "display_data"
    }
   ],
   "source": [
    "total_loss = history_v0['train']['loss']\n",
    "epochs = np.array([i for i in range(n_epoch)])\n",
    "plt.plot(epochs, total_loss)\n",
    "plt.title('Training Loss vs. Epoch')\n",
    "plt.xlabel('Epoch')\n",
    "plt.ylabel('Loss')\n",
    "plt.show()"
   ]
  },
  {
   "cell_type": "markdown",
   "metadata": {},
   "source": [
    "***Train multibranch model***"
   ]
  },
  {
   "cell_type": "code",
   "execution_count": 15,
   "metadata": {},
   "outputs": [
    {
     "name": "stdout",
     "output_type": "stream",
     "text": [
      "epoch 1 --> shortbranchloss: 0.190, longbranchloss: 0.116, totalloss: 0.153\n",
      "saving current epoch model ...\n",
      "epoch 2 --> shortbranchloss: 0.033, longbranchloss: 0.029, totalloss: 0.031\n",
      "saving current epoch model ...\n",
      "epoch 3 --> shortbranchloss: 0.028, longbranchloss: 0.026, totalloss: 0.027\n",
      "saving current epoch model ...\n",
      "epoch 4 --> shortbranchloss: 0.026, longbranchloss: 0.025, totalloss: 0.025\n",
      "saving current epoch model ...\n",
      "epoch 5 --> shortbranchloss: 0.024, longbranchloss: 0.024, totalloss: 0.024\n",
      "saving current epoch model ...\n"
     ]
    }
   ],
   "source": [
    "rodNet_v1, history_v1 = M_v1.train(tdataloader,train_model_path)"
   ]
  },
  {
   "cell_type": "code",
   "execution_count": 30,
   "metadata": {},
   "outputs": [
    {
     "ename": "NameError",
     "evalue": "name 'history_v1' is not defined",
     "output_type": "error",
     "traceback": [
      "\u001b[1;31m---------------------------------------------------------------------------\u001b[0m",
      "\u001b[1;31mNameError\u001b[0m                                 Traceback (most recent call last)",
      "Cell \u001b[1;32mIn[30], line 1\u001b[0m\n\u001b[1;32m----> 1\u001b[0m total_loss \u001b[38;5;241m=\u001b[39m history_v1[\u001b[38;5;124m'\u001b[39m\u001b[38;5;124mT\u001b[39m\u001b[38;5;124m'\u001b[39m][\u001b[38;5;124m'\u001b[39m\u001b[38;5;124mtrain\u001b[39m\u001b[38;5;124m'\u001b[39m][\u001b[38;5;124m'\u001b[39m\u001b[38;5;124mloss\u001b[39m\u001b[38;5;124m'\u001b[39m]\n\u001b[0;32m      2\u001b[0m short_branch_loss \u001b[38;5;241m=\u001b[39m history_v1[\u001b[38;5;124m'\u001b[39m\u001b[38;5;124m1\u001b[39m\u001b[38;5;124m'\u001b[39m][\u001b[38;5;124m'\u001b[39m\u001b[38;5;124mtrain\u001b[39m\u001b[38;5;124m'\u001b[39m][\u001b[38;5;124m'\u001b[39m\u001b[38;5;124mloss\u001b[39m\u001b[38;5;124m'\u001b[39m]\n\u001b[0;32m      3\u001b[0m long_branch_loss \u001b[38;5;241m=\u001b[39m history_v1[\u001b[38;5;124m'\u001b[39m\u001b[38;5;124m2\u001b[39m\u001b[38;5;124m'\u001b[39m][\u001b[38;5;124m'\u001b[39m\u001b[38;5;124mtrain\u001b[39m\u001b[38;5;124m'\u001b[39m][\u001b[38;5;124m'\u001b[39m\u001b[38;5;124mloss\u001b[39m\u001b[38;5;124m'\u001b[39m]\n",
      "\u001b[1;31mNameError\u001b[0m: name 'history_v1' is not defined"
     ]
    }
   ],
   "source": [
    "total_loss = history_v1['T']['train']['loss']\n",
    "short_branch_loss = history_v1['1']['train']['loss']\n",
    "long_branch_loss = history_v1['2']['train']['loss']\n",
    "epochs = np.array([i for i in range(n_epoch)])\n",
    "plt.plot(epochs, total_loss, label='Total')\n",
    "plt.plot(epochs,short_branch_loss, label='Short Branch')\n",
    "plt.plot(epochs,long_branch_loss, label='Long Branch')\n",
    "plt.title('Training Loss vs. Epoch')\n",
    "plt.xlabel('Epoch')\n",
    "plt.ylabel('Loss')\n",
    "plt.legend()\n",
    "plt.show()"
   ]
  },
  {
   "cell_type": "code",
   "execution_count": 1,
   "metadata": {},
   "outputs": [],
   "source": [
    "from cruw.eval import evaluate_rodnet_seq\n",
    "from cruw.eval.rod.rod_eval_utils import accumulate, summarize\n",
    "from cruw.eval.rod.load_txt import read_gt_txt, read_sub_txt, read_rodnet_res\n",
    "from cruw.eval.rod.rod_eval_utils import compute_ols_dts_gts, evaluate_img, accumulate, summarize"
   ]
  },
  {
   "cell_type": "code",
   "execution_count": 20,
   "metadata": {},
   "outputs": [
    {
     "name": "stdout",
     "output_type": "stream",
     "text": [
      "Number of encoder parameters: 28601088\n",
      "Number of decoder long parameters: 5919174\n",
      "result=array([[  2.        ,  55.        , 104.        ,   0.35353833],\n",
      "       [  2.        ,  53.        , 106.        ,   0.35153884],\n",
      "       [  2.        ,  89.        ,  82.        ,   0.34254435],\n",
      "       [  2.        ,  87.        ,  80.        ,   0.32396626],\n",
      "       [  2.        ,  91.        ,  84.        ,   0.30017382],\n",
      "       [ -1.        ,  -1.        ,  -1.        ,  -1.        ],\n",
      "       [ -1.        ,  -1.        ,  -1.        ,  -1.        ],\n",
      "       [ -1.        ,  -1.        ,  -1.        ,  -1.        ],\n",
      "       [ -1.        ,  -1.        ,  -1.        ,  -1.        ],\n",
      "       [ -1.        ,  -1.        ,  -1.        ,  -1.        ],\n",
      "       [ -1.        ,  -1.        ,  -1.        ,  -1.        ],\n",
      "       [ -1.        ,  -1.        ,  -1.        ,  -1.        ],\n",
      "       [ -1.        ,  -1.        ,  -1.        ,  -1.        ],\n",
      "       [ -1.        ,  -1.        ,  -1.        ,  -1.        ],\n",
      "       [ -1.        ,  -1.        ,  -1.        ,  -1.        ],\n",
      "       [ -1.        ,  -1.        ,  -1.        ,  -1.        ],\n",
      "       [ -1.        ,  -1.        ,  -1.        ,  -1.        ],\n",
      "       [ -1.        ,  -1.        ,  -1.        ,  -1.        ],\n",
      "       [ -1.        ,  -1.        ,  -1.        ,  -1.        ],\n",
      "       [ -1.        ,  -1.        ,  -1.        ,  -1.        ]])\n",
      "result=array([[ 2.        , 41.        , 72.        ,  0.35112092],\n",
      "       [ 2.        , 45.        , 73.        ,  0.32559195],\n",
      "       [-1.        , -1.        , -1.        , -1.        ],\n",
      "       [-1.        , -1.        , -1.        , -1.        ],\n",
      "       [-1.        , -1.        , -1.        , -1.        ],\n",
      "       [-1.        , -1.        , -1.        , -1.        ],\n",
      "       [-1.        , -1.        , -1.        , -1.        ],\n",
      "       [-1.        , -1.        , -1.        , -1.        ],\n",
      "       [-1.        , -1.        , -1.        , -1.        ],\n",
      "       [-1.        , -1.        , -1.        , -1.        ],\n",
      "       [-1.        , -1.        , -1.        , -1.        ],\n",
      "       [-1.        , -1.        , -1.        , -1.        ],\n",
      "       [-1.        , -1.        , -1.        , -1.        ],\n",
      "       [-1.        , -1.        , -1.        , -1.        ],\n",
      "       [-1.        , -1.        , -1.        , -1.        ],\n",
      "       [-1.        , -1.        , -1.        , -1.        ],\n",
      "       [-1.        , -1.        , -1.        , -1.        ],\n",
      "       [-1.        , -1.        , -1.        , -1.        ],\n",
      "       [-1.        , -1.        , -1.        , -1.        ],\n",
      "       [-1.        , -1.        , -1.        , -1.        ]])\n",
      "result=array([[ 2.        , 29.        , 66.        ,  0.36699724],\n",
      "       [ 2.        , 33.        , 65.        ,  0.31899977],\n",
      "       [-1.        , -1.        , -1.        , -1.        ],\n",
      "       [-1.        , -1.        , -1.        , -1.        ],\n",
      "       [-1.        , -1.        , -1.        , -1.        ],\n",
      "       [-1.        , -1.        , -1.        , -1.        ],\n",
      "       [-1.        , -1.        , -1.        , -1.        ],\n",
      "       [-1.        , -1.        , -1.        , -1.        ],\n",
      "       [-1.        , -1.        , -1.        , -1.        ],\n",
      "       [-1.        , -1.        , -1.        , -1.        ],\n",
      "       [-1.        , -1.        , -1.        , -1.        ],\n",
      "       [-1.        , -1.        , -1.        , -1.        ],\n",
      "       [-1.        , -1.        , -1.        , -1.        ],\n",
      "       [-1.        , -1.        , -1.        , -1.        ],\n",
      "       [-1.        , -1.        , -1.        , -1.        ],\n",
      "       [-1.        , -1.        , -1.        , -1.        ],\n",
      "       [-1.        , -1.        , -1.        , -1.        ],\n",
      "       [-1.        , -1.        , -1.        , -1.        ],\n",
      "       [-1.        , -1.        , -1.        , -1.        ],\n",
      "       [-1.        , -1.        , -1.        , -1.        ]])\n",
      "result=array([[-1., -1., -1., -1.],\n",
      "       [-1., -1., -1., -1.],\n",
      "       [-1., -1., -1., -1.],\n",
      "       [-1., -1., -1., -1.],\n",
      "       [-1., -1., -1., -1.],\n",
      "       [-1., -1., -1., -1.],\n",
      "       [-1., -1., -1., -1.],\n",
      "       [-1., -1., -1., -1.],\n",
      "       [-1., -1., -1., -1.],\n",
      "       [-1., -1., -1., -1.],\n",
      "       [-1., -1., -1., -1.],\n",
      "       [-1., -1., -1., -1.],\n",
      "       [-1., -1., -1., -1.],\n",
      "       [-1., -1., -1., -1.],\n",
      "       [-1., -1., -1., -1.],\n",
      "       [-1., -1., -1., -1.],\n",
      "       [-1., -1., -1., -1.],\n",
      "       [-1., -1., -1., -1.],\n",
      "       [-1., -1., -1., -1.],\n",
      "       [-1., -1., -1., -1.]])\n"
     ]
    },
    {
     "ename": "TypeError",
     "evalue": "'NoneType' object is not subscriptable",
     "output_type": "error",
     "traceback": [
      "\u001b[1;31m---------------------------------------------------------------------------\u001b[0m",
      "\u001b[1;31mTypeError\u001b[0m                                 Traceback (most recent call last)",
      "Cell \u001b[1;32mIn[20], line 43\u001b[0m\n\u001b[0;32m     41\u001b[0m sub_dets \u001b[38;5;241m=\u001b[39m read_rodnet_res(save_path, n_frame, dataset)\n\u001b[0;32m     42\u001b[0m \u001b[38;5;28mprint\u001b[39m(\u001b[38;5;124mf\u001b[39m\u001b[38;5;124m\"\u001b[39m\u001b[38;5;132;01m{\u001b[39;00mresult\u001b[38;5;132;01m=}\u001b[39;00m\u001b[38;5;124m\"\u001b[39m)\n\u001b[1;32m---> 43\u001b[0m olss_all \u001b[38;5;241m=\u001b[39m {(start_frame, catId): compute_ols_dts_gts(gt_dets, sub_dets, start_frame, catId, dataset) \\\n\u001b[0;32m     44\u001b[0m             \u001b[38;5;28;01mfor\u001b[39;00m catId \u001b[38;5;129;01min\u001b[39;00m \u001b[38;5;28mrange\u001b[39m(\u001b[38;5;241m3\u001b[39m)}\n\u001b[0;32m     45\u001b[0m ols_ans\u001b[38;5;241m.\u001b[39mappend(olss_all)\n",
      "Cell \u001b[1;32mIn[20], line 43\u001b[0m, in \u001b[0;36m<dictcomp>\u001b[1;34m(.0)\u001b[0m\n\u001b[0;32m     41\u001b[0m sub_dets \u001b[38;5;241m=\u001b[39m read_rodnet_res(save_path, n_frame, dataset)\n\u001b[0;32m     42\u001b[0m \u001b[38;5;28mprint\u001b[39m(\u001b[38;5;124mf\u001b[39m\u001b[38;5;124m\"\u001b[39m\u001b[38;5;132;01m{\u001b[39;00mresult\u001b[38;5;132;01m=}\u001b[39;00m\u001b[38;5;124m\"\u001b[39m)\n\u001b[1;32m---> 43\u001b[0m olss_all \u001b[38;5;241m=\u001b[39m {(start_frame, catId): compute_ols_dts_gts(gt_dets, sub_dets, start_frame, catId, dataset) \\\n\u001b[0;32m     44\u001b[0m             \u001b[38;5;28;01mfor\u001b[39;00m catId \u001b[38;5;129;01min\u001b[39;00m \u001b[38;5;28mrange\u001b[39m(\u001b[38;5;241m3\u001b[39m)}\n\u001b[0;32m     45\u001b[0m ols_ans\u001b[38;5;241m.\u001b[39mappend(olss_all)\n",
      "File \u001b[1;32mc:\\users\\john.s\\documents\\rodnet\\rodnet\\cruw-devkit\\cruw\\eval\\rod\\rod_eval_utils.py:9\u001b[0m, in \u001b[0;36mcompute_ols_dts_gts\u001b[1;34m(gts_dict, dts_dict, imgId, catId, dataset)\u001b[0m\n\u001b[0;32m      7\u001b[0m \u001b[38;5;250m\u001b[39m\u001b[38;5;124;03m\"\"\"Compute OLS between detections and gts for a category in a frame.\"\"\"\u001b[39;00m\n\u001b[0;32m      8\u001b[0m gts \u001b[38;5;241m=\u001b[39m gts_dict[imgId, catId]\n\u001b[1;32m----> 9\u001b[0m dts \u001b[38;5;241m=\u001b[39m dts_dict[imgId, catId]\n\u001b[0;32m     10\u001b[0m inds \u001b[38;5;241m=\u001b[39m np\u001b[38;5;241m.\u001b[39margsort([\u001b[38;5;241m-\u001b[39md[\u001b[38;5;124m'\u001b[39m\u001b[38;5;124mscore\u001b[39m\u001b[38;5;124m'\u001b[39m] \u001b[38;5;28;01mfor\u001b[39;00m d \u001b[38;5;129;01min\u001b[39;00m dts], kind\u001b[38;5;241m=\u001b[39m\u001b[38;5;124m'\u001b[39m\u001b[38;5;124mmergesort\u001b[39m\u001b[38;5;124m'\u001b[39m)\n\u001b[0;32m     11\u001b[0m dts \u001b[38;5;241m=\u001b[39m [dts[i] \u001b[38;5;28;01mfor\u001b[39;00m i \u001b[38;5;129;01min\u001b[39;00m inds]\n",
      "\u001b[1;31mTypeError\u001b[0m: 'NoneType' object is not subscriptable"
     ]
    }
   ],
   "source": [
    "rod_v0 = ROD_V0(in_channels=2, n_class=n_class).to(device)\n",
    "rod_v0.load_state_dict(torch.load(os.path.join(train_model_path,'base_epoch_0{}_final.pkl'.format(n_epoch))))\n",
    "rod_v0.eval()\n",
    "validation_loss_class_0 = []\n",
    "validation_loss_class_1 = []\n",
    "validation_loss_class_2 = []\n",
    "ols_ans = []\n",
    "with torch.no_grad():\n",
    "    for iter, data_dict in enumerate(vdataloader):\n",
    "        data = data_dict['radar_data'].to(device)\n",
    "        confmap_gt = data_dict['anno']['confmaps'].to(device)\n",
    "        seq_name = data_dict['seq_names'][0]\n",
    "        start_frame = data_dict['start_frame'].item()\n",
    "        end_frame = data_dict['end_frame'].item()\n",
    "        confmap_pred = rod_v0(data.float())\n",
    "        loss_class_0 = criterion_v0(confmap_pred[:,0,:,:,:], confmap_gt[:,0,:,:,:].float()).item()\n",
    "        loss_class_1 = criterion_v0(confmap_pred[:,1,:,:,:], confmap_gt[:,1,:,:,:].float()).item()\n",
    "        loss_class_2 = criterion_v0(confmap_pred[:,2,:,:,:], confmap_gt[:,2,:,:,:].float()).item()\n",
    "        validation_loss_class_0.append(loss_class_0)\n",
    "        validation_loss_class_1.append(loss_class_1)\n",
    "        validation_loss_class_2.append(loss_class_2)\n",
    "        pred = confmap_pred[0,:,0,:,:]\n",
    "        pred = pred.cpu().detach().numpy()\n",
    "\n",
    "        #print(seq_name)\n",
    "        result = post_process_single_frame(pred, dataset, config_dict)\n",
    "        \n",
    "        seq_res_dir = os.path.join(test_res_dir_base, seq_name)\n",
    "        if not os.path.exists(seq_res_dir):\n",
    "            os.makedirs(seq_res_dir)\n",
    "        f = open(os.path.join(seq_res_dir, 'rod_res.txt'), 'a')\n",
    "        f.close()\n",
    "        save_path = os.path.join(test_res_dir_base, seq_name, 'rod_res.txt')\n",
    "\n",
    "        write_dets_results_single_frame(result, start_frame, save_path, dataset)\n",
    "        \n",
    "        gt_path = os.path.join('C:/Users/john.s/Documents/RodNet/ROD2021/annotations/train', seq_name.upper() + '.txt')\n",
    "        data_path = os.path.join(dataset.data_root, 'sequences', gt_path.split('/')[-1][:-4])\n",
    "        n_frame = len(os.listdir(os.path.join(data_path, dataset.sensor_cfg.camera_cfg['image_folder'])))\n",
    "        gt_dets = read_gt_txt(gt_path, n_frame, dataset)\n",
    "        sub_dets = read_rodnet_res(save_path, n_frame, dataset)\n",
    "        olss_all = {(start_frame, catId): compute_ols_dts_gts(gt_dets, sub_dets, start_frame, catId, dataset) \\\n",
    "                    for catId in range(3)}\n",
    "        ols_ans.append(olss_all)\n",
    "   "
   ]
  },
  {
   "cell_type": "code",
   "execution_count": null,
   "metadata": {},
   "outputs": [
    {
     "data": {
      "image/png": "[encoded data removed]",
      "text/plain": [
       "<Figure size 640x480 with 1 Axes>"
      ]
     },
     "metadata": {},
     "output_type": "display_data"
    }
   ],
   "source": [
    "plt.hist(np.round(np.array(validation_loss_class_0),3), bins=30, color='red', alpha=0.5, label='pedistrian',density=True)\n",
    "plt.hist(np.round(np.array(validation_loss_class_1),3), bins=30, color='green', alpha=0.5, label='bicycle',density=True)\n",
    "plt.hist(np.round(np.array(validation_loss_class_2),3), bins=30, color='blue', alpha=0.5, label='car',density=True)\n",
    "plt.title('loss pdf')\n",
    "plt.xlabel('Loss')\n",
    "plt.ylabel('Probability Density')\n",
    "plt.legend(loc='upper left', ncol=3)\n",
    "plt.grid(True)\n",
    "plt.show()"
   ]
  },
  {
   "cell_type": "code",
   "execution_count": 29,
   "metadata": {},
   "outputs": [
    {
     "name": "stdout",
     "output_type": "stream",
     "text": [
      "Number of encoder parameters: 6481152\n",
      "Number of decoder short parameters: 1200453\n",
      "Number of decoder long parameters: 28039110\n",
      "n_frame=1692\n",
      "n_frame=900\n"
     ]
    },
    {
     "ename": "TypeError",
     "evalue": "'NoneType' object is not subscriptable",
     "output_type": "error",
     "traceback": [
      "\u001b[1;31m---------------------------------------------------------------------------\u001b[0m",
      "\u001b[1;31mTypeError\u001b[0m                                 Traceback (most recent call last)",
      "Cell \u001b[1;32mIn[29], line 59\u001b[0m\n\u001b[0;32m     57\u001b[0m sub_dets_1 \u001b[38;5;241m=\u001b[39m read_rodnet_res(save_path_1, n_frame, dataset)\n\u001b[0;32m     58\u001b[0m sub_dets_2 \u001b[38;5;241m=\u001b[39m read_rodnet_res(save_path_2, n_frame, dataset)\n\u001b[1;32m---> 59\u001b[0m olss_all_1 \u001b[38;5;241m=\u001b[39m {(start_frame, catId): compute_ols_dts_gts(gt_dets, sub_dets_1, start_frame, catId, dataset) \\\n\u001b[0;32m     60\u001b[0m             \u001b[38;5;28;01mfor\u001b[39;00m catId \u001b[38;5;129;01min\u001b[39;00m \u001b[38;5;28mrange\u001b[39m(\u001b[38;5;241m3\u001b[39m)}\n\u001b[0;32m     61\u001b[0m olss_all_2 \u001b[38;5;241m=\u001b[39m {(start_frame, catId): compute_ols_dts_gts(gt_dets, sub_dets_2, start_frame, catId, dataset) \\\n\u001b[0;32m     62\u001b[0m             \u001b[38;5;28;01mfor\u001b[39;00m catId \u001b[38;5;129;01min\u001b[39;00m \u001b[38;5;28mrange\u001b[39m(\u001b[38;5;241m3\u001b[39m)}\n\u001b[0;32m     63\u001b[0m ols_ans_1\u001b[38;5;241m.\u001b[39mappend(olss_all_1)\n",
      "Cell \u001b[1;32mIn[29], line 59\u001b[0m, in \u001b[0;36m<dictcomp>\u001b[1;34m(.0)\u001b[0m\n\u001b[0;32m     57\u001b[0m sub_dets_1 \u001b[38;5;241m=\u001b[39m read_rodnet_res(save_path_1, n_frame, dataset)\n\u001b[0;32m     58\u001b[0m sub_dets_2 \u001b[38;5;241m=\u001b[39m read_rodnet_res(save_path_2, n_frame, dataset)\n\u001b[1;32m---> 59\u001b[0m olss_all_1 \u001b[38;5;241m=\u001b[39m {(start_frame, catId): compute_ols_dts_gts(gt_dets, sub_dets_1, start_frame, catId, dataset) \\\n\u001b[0;32m     60\u001b[0m             \u001b[38;5;28;01mfor\u001b[39;00m catId \u001b[38;5;129;01min\u001b[39;00m \u001b[38;5;28mrange\u001b[39m(\u001b[38;5;241m3\u001b[39m)}\n\u001b[0;32m     61\u001b[0m olss_all_2 \u001b[38;5;241m=\u001b[39m {(start_frame, catId): compute_ols_dts_gts(gt_dets, sub_dets_2, start_frame, catId, dataset) \\\n\u001b[0;32m     62\u001b[0m             \u001b[38;5;28;01mfor\u001b[39;00m catId \u001b[38;5;129;01min\u001b[39;00m \u001b[38;5;28mrange\u001b[39m(\u001b[38;5;241m3\u001b[39m)}\n\u001b[0;32m     63\u001b[0m ols_ans_1\u001b[38;5;241m.\u001b[39mappend(olss_all_1)\n",
      "File \u001b[1;32mc:\\users\\john.s\\documents\\rodnet\\rodnet\\cruw-devkit\\cruw\\eval\\rod\\rod_eval_utils.py:9\u001b[0m, in \u001b[0;36mcompute_ols_dts_gts\u001b[1;34m(gts_dict, dts_dict, imgId, catId, dataset)\u001b[0m\n\u001b[0;32m      7\u001b[0m \u001b[38;5;250m\u001b[39m\u001b[38;5;124;03m\"\"\"Compute OLS between detections and gts for a category in a frame.\"\"\"\u001b[39;00m\n\u001b[0;32m      8\u001b[0m gts \u001b[38;5;241m=\u001b[39m gts_dict[imgId, catId]\n\u001b[1;32m----> 9\u001b[0m dts \u001b[38;5;241m=\u001b[39m dts_dict[imgId, catId]\n\u001b[0;32m     10\u001b[0m inds \u001b[38;5;241m=\u001b[39m np\u001b[38;5;241m.\u001b[39margsort([\u001b[38;5;241m-\u001b[39md[\u001b[38;5;124m'\u001b[39m\u001b[38;5;124mscore\u001b[39m\u001b[38;5;124m'\u001b[39m] \u001b[38;5;28;01mfor\u001b[39;00m d \u001b[38;5;129;01min\u001b[39;00m dts], kind\u001b[38;5;241m=\u001b[39m\u001b[38;5;124m'\u001b[39m\u001b[38;5;124mmergesort\u001b[39m\u001b[38;5;124m'\u001b[39m)\n\u001b[0;32m     11\u001b[0m dts \u001b[38;5;241m=\u001b[39m [dts[i] \u001b[38;5;28;01mfor\u001b[39;00m i \u001b[38;5;129;01min\u001b[39;00m inds]\n",
      "\u001b[1;31mTypeError\u001b[0m: 'NoneType' object is not subscriptable"
     ]
    }
   ],
   "source": [
    "rod_v1 = ROD_V1(in_channels=2, n_class=n_class).to(device)\n",
    "rod_v1.load_state_dict(torch.load(os.path.join(train_model_path,'multi_epoch_0{}_final.pkl'.format(n_epoch))))\n",
    "rod_v1.eval()\n",
    "val_loss_class_0_short = []\n",
    "val_loss_class_1_short = []\n",
    "val_loss_class_2_short = []\n",
    "val_loss_class_0_long = []\n",
    "val_loss_class_1_long = []\n",
    "val_loss_class_2_long = []\n",
    "early_exit_count = 0\n",
    "ols_ans_1 = []\n",
    "ols_ans_2 = []\n",
    "early_exit_count = 0\n",
    "with torch.no_grad():\n",
    "    for iter, data_dict in enumerate(vdataloader):\n",
    "        data = data_dict['radar_data'].to(device)\n",
    "        confmap_gt = data_dict['anno']['confmaps'].to(device)\n",
    "        seq_name = data_dict['seq_names'][0]\n",
    "        start_frame = data_dict['start_frame'].item()\n",
    "        end_frame = data_dict['end_frame'].item()\n",
    "        confmap_preds_1,confmap_preds_2 = rod_v1(data.float())\n",
    "        loss_1_class0, loss_2_class0 = criterion_v1(confmap_preds_1[:,0,:,:,:], confmap_gt[:,0,:,:,:].float()), criterion_v1(confmap_preds_2[:,0,:,:,:], confmap_gt[:,0,:,:,:].float())\n",
    "        loss_1_class1, loss_2_class1 = criterion_v1(confmap_preds_1[:,1,:,:,:], confmap_gt[:,1,:,:,:].float()), criterion_v1(confmap_preds_2[:,1,:,:,:], confmap_gt[:,1,:,:,:].float())\n",
    "        loss_1_class2, loss_2_class2 = criterion_v1(confmap_preds_1[:,2,:,:,:], confmap_gt[:,2,:,:,:].float()), criterion_v1(confmap_preds_2[:,2,:,:,:], confmap_gt[:,2,:,:,:].float())\n",
    "        val_loss_class_0_short.append(loss_1_class0)\n",
    "        val_loss_class_1_short.append(loss_1_class1)\n",
    "        val_loss_class_2_short.append(loss_1_class2)\n",
    "        val_loss_class_0_long.append(loss_2_class0)\n",
    "        val_loss_class_1_long.append(loss_2_class1)\n",
    "        val_loss_class_2_long.append(loss_2_class2)\n",
    "\n",
    "        pred1 = confmap_preds_1[0,:,0,:,:].cpu().detach().numpy()\n",
    "        pred2 = confmap_preds_2[0,:,0,:,:].cpu().detach().numpy()\n",
    "\n",
    "        #print(seq_name)\n",
    "        result1 = post_process_single_frame(pred1, dataset, config_dict)\n",
    "        result2 = post_process_single_frame(pred2, dataset, config_dict)\n",
    "        \n",
    "        seq_res_dir = os.path.join(test_res_dir_multi, seq_name)\n",
    "        if not os.path.exists(seq_res_dir):\n",
    "            os.makedirs(seq_res_dir)\n",
    "        f1 = open(os.path.join(seq_res_dir, 'rod_res_1.txt'), 'a')\n",
    "        f2 = open(os.path.join(seq_res_dir, 'rod_res_2.txt'), 'a')\n",
    "        f1.close()\n",
    "        f2.close()\n",
    "        save_path_1 = os.path.join(test_res_dir_multi, seq_name, 'rod_res_1.txt')\n",
    "        save_path_2 = os.path.join(test_res_dir_multi, seq_name, 'rod_res_2.txt')\n",
    "\n",
    "        write_dets_results_single_frame(result1, start_frame, save_path_1, dataset)\n",
    "        write_dets_results_single_frame(result2, start_frame, save_path_2, dataset)\n",
    "        \n",
    "        gt_path = os.path.join('C:/Users/john.s/Documents/RodNet/ROD2021/annotations/train', seq_name.upper() + '.txt')\n",
    "        data_path = os.path.join(dataset.data_root, 'sequences', gt_path.split('/')[-1][:-4])\n",
    "        n_frame = len(os.listdir(os.path.join(data_path, dataset.sensor_cfg.camera_cfg['image_folder'])))\n",
    "        gt_dets = read_gt_txt(gt_path, n_frame, dataset)\n",
    "        sub_dets_1 = read_rodnet_res(save_path_1, n_frame, dataset)\n",
    "        sub_dets_2 = read_rodnet_res(save_path_2, n_frame, dataset)\n",
    "        olss_all_1 = {(start_frame, catId): compute_ols_dts_gts(gt_dets, sub_dets_1, start_frame, catId, dataset) \\\n",
    "                    for catId in range(3)}\n",
    "        olss_all_2 = {(start_frame, catId): compute_ols_dts_gts(gt_dets, sub_dets_2, start_frame, catId, dataset) \\\n",
    "                    for catId in range(3)}\n",
    "        ols_ans_1.append(olss_all_1)\n",
    "        ols_ans_1.append(olss_all_2)\n",
    "        \n",
    "        if(len(gt_dets[start_frame,0]) == len(sub_dets_1[start_frame,0]) and len(gt_dets[start_frame,1]) == len(sub_dets_1[start_frame,1]) and len(gt_dets[start_frame,2]) == len(sub_dets_1[start_frame,2])):\n",
    "            early_exit_count += 1\n",
    "        \n",
    "    print(\"Number of samples will exit early {}\".format(early_exit_count))\n",
    "        # print('ground_truth')\n",
    "        # print(gt_dets[start_frame,0])\n",
    "        # print(gt_dets[start_frame,1])\n",
    "        # print(gt_dets[start_frame,2])\n",
    "        # print('predicted 1')\n",
    "        # print(sub_dets_1[start_frame,0])\n",
    "        # print(sub_dets_1[start_frame,1])\n",
    "        # print(sub_dets_1[start_frame,2])\n",
    "        # print('predicted 2')\n",
    "        # print(sub_dets_2[start_frame,0])\n",
    "        # print(sub_dets_2[start_frame,1])\n",
    "        # print(sub_dets_2[start_frame,2])\n",
    "        # print(olss_all)"
   ]
  },
  {
   "cell_type": "code",
   "execution_count": null,
   "metadata": {},
   "outputs": [
    {
     "data": {
      "image/png": "[encoded data removed]",
      "text/plain": [
       "<Figure size 1000x400 with 2 Axes>"
      ]
     },
     "metadata": {},
     "output_type": "display_data"
    }
   ],
   "source": [
    "plt.figure(figsize=(10, 4))\n",
    "plt.subplot(1,2,1)\n",
    "plt.hist(np.round(np.array(val_loss_class_0_short),3), bins=30, color='red', alpha=0.5, label='pedistrian',density=True)\n",
    "plt.hist(np.round(np.array(val_loss_class_1_short),3), bins=30, color='green', alpha=0.5, label='bicycle',density=True)\n",
    "plt.hist(np.round(np.array(val_loss_class_2_short),3), bins=30, color='blue', alpha=0.5, label='car',density=True)\n",
    "plt.title('loss pdf short branch')\n",
    "plt.xlabel('Loss')\n",
    "plt.ylabel('Probability Density')\n",
    "plt.legend(loc='upper left', ncol=3)\n",
    "plt.grid(True)\n",
    "\n",
    "plt.subplot(1,2,2)\n",
    "plt.hist(np.round(np.array(val_loss_class_0_long),3), bins=30, color='red', alpha=0.5, label='pedistrian',density=True)\n",
    "plt.hist(np.round(np.array(val_loss_class_1_long),3), bins=30, color='green', alpha=0.5, label='bicycle',density=True)\n",
    "plt.hist(np.round(np.array(val_loss_class_2_long),3), bins=30, color='blue', alpha=0.5, label='car',density=True)\n",
    "plt.title('loss pdf long branch')\n",
    "plt.xlabel('Loss')\n",
    "plt.ylabel('Probability Density')\n",
    "plt.legend(loc='upper left', ncol=3)\n",
    "plt.grid(True)\n",
    "plt.show()"
   ]
  }
 ],
 "metadata": {
  "kernelspec": {
   "display_name": "ENDG511",
   "language": "python",
   "name": "python3"
  },
  "language_info": {
   "codemirror_mode": {
    "name": "ipython",
    "version": 3
   },
   "file_extension": ".py",
   "mimetype": "text/x-python",
   "name": "python",
   "nbconvert_exporter": "python",
   "pygments_lexer": "ipython3",
   "version": "3.11.8"
  }
 },
 "nbformat": 4,
 "nbformat_minor": 2
}
